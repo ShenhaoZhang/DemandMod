{
 "cells": [
  {
   "cell_type": "code",
   "execution_count": null,
   "metadata": {},
   "outputs": [],
   "source": [
    "import pickle\n",
    "import logging\n",
    "import datetime\n",
    "import sys\n",
    "sys.path.append('..')\n",
    "\n",
    "import numpy as np\n",
    "\n",
    "from mod.Demand import Demand\n",
    "from mod.SimSale import SimSale"
   ]
  },
  {
   "cell_type": "markdown",
   "metadata": {},
   "source": [
    "### 对于参数估计效果的影响的因素（固定三个属性及三个水平）\n",
    "- 销售额 qty 10~1000\n",
    "- 样本量 n 10~1000\n",
    "- 商品种类缺失的数量（随机） rlack 1~26"
   ]
  },
  {
   "cell_type": "code",
   "execution_count": null,
   "metadata": {},
   "outputs": [],
   "source": [
    "# 固定三种属性及每种属性下水平的个数\n",
    "level_size = [3,3]\n",
    "goods_attr={'A': ['a', 'b','c'], 'B': ['a', 'b','c']}\n",
    "\n",
    "# 参数数量\n",
    "qty_list   = np.arange(start=10,stop=1100,step=100)\n",
    "n_list     = np.arange(start=10,stop=210,step=10)\n",
    "rlack_list = np.arange(start=0.1,stop=1,step=0.1)\n",
    "\n",
    "param_grid = np.meshgrid(qty_list,n_list,rlack_list)\n",
    "param_grid = [grid.flatten() for grid in param_grid]"
   ]
  },
  {
   "cell_type": "code",
   "execution_count": null,
   "metadata": {},
   "outputs": [],
   "source": [
    "sim_sale = SimSale(level_size=level_size,seed=123)\n",
    "logging.basicConfig(filename='log/log33.log',encoding='utf-8',level=logging.INFO)\n",
    "\n",
    "score_list = []\n",
    "for i in range(len(param_grid[0])):\n",
    "    qty_i        = param_grid[0][i]\n",
    "    n_i          = param_grid[1][i]\n",
    "    rlack_list_i = param_grid[2][i]\n",
    "    \n",
    "    sim_data = sim_sale.generate_sale(lam=qty_i,size=n_i,un_ava_frac=rlack_list_i,un_ava_mix=True)\n",
    "    \n",
    "    mod = Demand(data=sim_data,goods_attr=goods_attr)\n",
    "    mod.fit()\n",
    "    \n",
    "    score = mod.score(SimSale=sim_sale)\n",
    "    score_list.append(score)\n",
    "    \n",
    "    log_info = 'Time:{} | Finish:{} | qty:{} | n:{} | rlack_list_i:{} | score:{}'.format(\n",
    "        datetime.datetime.now(),\n",
    "        str(round(i/len(param_grid[0])*100,2))+'%',\n",
    "        qty_i,\n",
    "        n_i,\n",
    "        round(rlack_list_i,1),\n",
    "        round(score,4)\n",
    "    )\n",
    "    logging.info(log_info)\n",
    "pickle.dump(obj=score_list,file=open(file='score_list',mode='wb'))"
   ]
  }
 ],
 "metadata": {
  "interpreter": {
   "hash": "bd268f7866a163180400200105e2f04e308ca1b14f67412b0fa0af36d347cc58"
  },
  "kernelspec": {
   "display_name": "Python 3.9.7 ('analysis')",
   "language": "python",
   "name": "python3"
  },
  "language_info": {
   "codemirror_mode": {
    "name": "ipython",
    "version": 3
   },
   "file_extension": ".py",
   "mimetype": "text/x-python",
   "name": "python",
   "nbconvert_exporter": "python",
   "pygments_lexer": "ipython3",
   "version": "3.9.7"
  },
  "orig_nbformat": 4
 },
 "nbformat": 4,
 "nbformat_minor": 2
}
