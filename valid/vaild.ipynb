{
 "cells": [
  {
   "cell_type": "code",
   "execution_count": 1,
   "metadata": {},
   "outputs": [],
   "source": [
    "import sys\n",
    "sys.path.append('..')\n",
    "\n",
    "import numpy as np \n",
    "import pandas as pd \n",
    "from scipy.optimize import root\n",
    "\n",
    "from mod.SimSale import SimSale\n",
    "from mod.Demand import Demand\n",
    "from numba import jit\n",
    "\n",
    "from numdifftools import Hessian,Jacobian"
   ]
  },
  {
   "cell_type": "markdown",
   "metadata": {},
   "source": [
    "## 1.模拟数据 及 待估计参数"
   ]
  },
  {
   "cell_type": "code",
   "execution_count": 2,
   "metadata": {},
   "outputs": [
    {
     "name": "stdout",
     "output_type": "stream",
     "text": [
      "a    0.318605\n",
      "b    0.591657\n",
      "c    0.089738\n",
      "Name: A, dtype: float64\n",
      "a    0.231984\n",
      "b    0.554702\n",
      "c    0.213314\n",
      "Name: B, dtype: float64\n",
      "          a         b         c\n",
      "a  1.000000  0.280648  0.380994\n",
      "b  0.744932  1.000000  0.494634\n",
      "c  0.024803  0.678162  1.000000\n",
      "          a         b         c\n",
      "a  1.000000  0.120638  0.362802\n",
      "b  0.183110  1.000000  0.675328\n",
      "c  0.252368  0.436672  1.000000\n"
     ]
    },
    {
     "data": {
      "text/html": [
       "<div>\n",
       "<style scoped>\n",
       "    .dataframe tbody tr th:only-of-type {\n",
       "        vertical-align: middle;\n",
       "    }\n",
       "\n",
       "    .dataframe tbody tr th {\n",
       "        vertical-align: top;\n",
       "    }\n",
       "\n",
       "    .dataframe thead th {\n",
       "        text-align: right;\n",
       "    }\n",
       "</style>\n",
       "<table border=\"1\" class=\"dataframe\">\n",
       "  <thead>\n",
       "    <tr style=\"text-align: right;\">\n",
       "      <th></th>\n",
       "      <th>A_a*B_a</th>\n",
       "      <th>A_a*B_b</th>\n",
       "      <th>A_a*B_c</th>\n",
       "      <th>A_b*B_a</th>\n",
       "      <th>A_b*B_b</th>\n",
       "      <th>A_b*B_c</th>\n",
       "      <th>A_c*B_a</th>\n",
       "      <th>A_c*B_b</th>\n",
       "      <th>A_c*B_c</th>\n",
       "    </tr>\n",
       "  </thead>\n",
       "  <tbody>\n",
       "    <tr>\n",
       "      <th>0</th>\n",
       "      <td>NaN</td>\n",
       "      <td>195.0</td>\n",
       "      <td>61.0</td>\n",
       "      <td>NaN</td>\n",
       "      <td>307.0</td>\n",
       "      <td>139.0</td>\n",
       "      <td>123.0</td>\n",
       "      <td>54.0</td>\n",
       "      <td>NaN</td>\n",
       "    </tr>\n",
       "    <tr>\n",
       "      <th>0</th>\n",
       "      <td>65.0</td>\n",
       "      <td>428.0</td>\n",
       "      <td>NaN</td>\n",
       "      <td>160.0</td>\n",
       "      <td>NaN</td>\n",
       "      <td>130.0</td>\n",
       "      <td>NaN</td>\n",
       "      <td>40.0</td>\n",
       "      <td>24.0</td>\n",
       "    </tr>\n",
       "    <tr>\n",
       "      <th>0</th>\n",
       "      <td>NaN</td>\n",
       "      <td>415.0</td>\n",
       "      <td>157.0</td>\n",
       "      <td>139.0</td>\n",
       "      <td>NaN</td>\n",
       "      <td>NaN</td>\n",
       "      <td>43.0</td>\n",
       "      <td>53.0</td>\n",
       "      <td>15.0</td>\n",
       "    </tr>\n",
       "    <tr>\n",
       "      <th>0</th>\n",
       "      <td>NaN</td>\n",
       "      <td>195.0</td>\n",
       "      <td>NaN</td>\n",
       "      <td>145.0</td>\n",
       "      <td>347.0</td>\n",
       "      <td>128.0</td>\n",
       "      <td>48.0</td>\n",
       "      <td>NaN</td>\n",
       "      <td>25.0</td>\n",
       "    </tr>\n",
       "    <tr>\n",
       "      <th>0</th>\n",
       "      <td>190.0</td>\n",
       "      <td>NaN</td>\n",
       "      <td>276.0</td>\n",
       "      <td>NaN</td>\n",
       "      <td>335.0</td>\n",
       "      <td>NaN</td>\n",
       "      <td>20.0</td>\n",
       "      <td>53.0</td>\n",
       "      <td>21.0</td>\n",
       "    </tr>\n",
       "    <tr>\n",
       "      <th>...</th>\n",
       "      <td>...</td>\n",
       "      <td>...</td>\n",
       "      <td>...</td>\n",
       "      <td>...</td>\n",
       "      <td>...</td>\n",
       "      <td>...</td>\n",
       "      <td>...</td>\n",
       "      <td>...</td>\n",
       "      <td>...</td>\n",
       "    </tr>\n",
       "    <tr>\n",
       "      <th>0</th>\n",
       "      <td>68.0</td>\n",
       "      <td>225.0</td>\n",
       "      <td>NaN</td>\n",
       "      <td>135.0</td>\n",
       "      <td>353.0</td>\n",
       "      <td>135.0</td>\n",
       "      <td>NaN</td>\n",
       "      <td>47.0</td>\n",
       "      <td>NaN</td>\n",
       "    </tr>\n",
       "    <tr>\n",
       "      <th>0</th>\n",
       "      <td>55.0</td>\n",
       "      <td>NaN</td>\n",
       "      <td>296.0</td>\n",
       "      <td>146.0</td>\n",
       "      <td>333.0</td>\n",
       "      <td>NaN</td>\n",
       "      <td>NaN</td>\n",
       "      <td>53.0</td>\n",
       "      <td>25.0</td>\n",
       "    </tr>\n",
       "    <tr>\n",
       "      <th>0</th>\n",
       "      <td>83.0</td>\n",
       "      <td>462.0</td>\n",
       "      <td>162.0</td>\n",
       "      <td>130.0</td>\n",
       "      <td>NaN</td>\n",
       "      <td>NaN</td>\n",
       "      <td>26.0</td>\n",
       "      <td>NaN</td>\n",
       "      <td>66.0</td>\n",
       "    </tr>\n",
       "    <tr>\n",
       "      <th>0</th>\n",
       "      <td>63.0</td>\n",
       "      <td>473.0</td>\n",
       "      <td>NaN</td>\n",
       "      <td>134.0</td>\n",
       "      <td>NaN</td>\n",
       "      <td>118.0</td>\n",
       "      <td>21.0</td>\n",
       "      <td>NaN</td>\n",
       "      <td>51.0</td>\n",
       "    </tr>\n",
       "    <tr>\n",
       "      <th>0</th>\n",
       "      <td>NaN</td>\n",
       "      <td>174.0</td>\n",
       "      <td>138.0</td>\n",
       "      <td>NaN</td>\n",
       "      <td>326.0</td>\n",
       "      <td>NaN</td>\n",
       "      <td>126.0</td>\n",
       "      <td>58.0</td>\n",
       "      <td>21.0</td>\n",
       "    </tr>\n",
       "  </tbody>\n",
       "</table>\n",
       "<p>100 rows × 9 columns</p>\n",
       "</div>"
      ],
      "text/plain": [
       "    A_a*B_a  A_a*B_b  A_a*B_c  A_b*B_a  A_b*B_b  A_b*B_c  A_c*B_a  A_c*B_b  \\\n",
       "0       NaN    195.0     61.0      NaN    307.0    139.0    123.0     54.0   \n",
       "0      65.0    428.0      NaN    160.0      NaN    130.0      NaN     40.0   \n",
       "0       NaN    415.0    157.0    139.0      NaN      NaN     43.0     53.0   \n",
       "0       NaN    195.0      NaN    145.0    347.0    128.0     48.0      NaN   \n",
       "0     190.0      NaN    276.0      NaN    335.0      NaN     20.0     53.0   \n",
       "..      ...      ...      ...      ...      ...      ...      ...      ...   \n",
       "0      68.0    225.0      NaN    135.0    353.0    135.0      NaN     47.0   \n",
       "0      55.0      NaN    296.0    146.0    333.0      NaN      NaN     53.0   \n",
       "0      83.0    462.0    162.0    130.0      NaN      NaN     26.0      NaN   \n",
       "0      63.0    473.0      NaN    134.0      NaN    118.0     21.0      NaN   \n",
       "0       NaN    174.0    138.0      NaN    326.0      NaN    126.0     58.0   \n",
       "\n",
       "    A_c*B_c  \n",
       "0       NaN  \n",
       "0      24.0  \n",
       "0      15.0  \n",
       "0      25.0  \n",
       "0      21.0  \n",
       "..      ...  \n",
       "0       NaN  \n",
       "0      25.0  \n",
       "0      66.0  \n",
       "0      51.0  \n",
       "0      21.0  \n",
       "\n",
       "[100 rows x 9 columns]"
      ]
     },
     "execution_count": 2,
     "metadata": {},
     "output_type": "execute_result"
    }
   ],
   "source": [
    "sim_sale=SimSale(level_size=[3,3],seed=1)\n",
    "sale_df = sim_sale.generate_sale(lam=1000,size=100,un_ava_frac=0.3,un_ava_mix=True)\n",
    "# sale_df\n",
    "print(sim_sale.attr_f_list[0])\n",
    "print(sim_sale.attr_f_list[1])\n",
    "print(sim_sale.attr_pi_list[0])\n",
    "print(sim_sale.attr_pi_list[1]) \n",
    "mod = Demand(data=sale_df, goods_attr={'A': ['a', 'b','c'], 'B': ['a', 'b','c']})\n",
    "sale_df"
   ]
  },
  {
   "cell_type": "markdown",
   "metadata": {},
   "source": [
    "## 2.参数估计"
   ]
  },
  {
   "cell_type": "code",
   "execution_count": 3,
   "metadata": {},
   "outputs": [
    {
     "name": "stdout",
     "output_type": "stream",
     "text": [
      "     fun: 132876.37719560254\n",
      " message: ['Maximum number of iteration reached']\n",
      "    nfev: 77459\n",
      "    nhev: 0\n",
      "     nit: 1000\n",
      "    njev: 2182\n",
      "  status: 0\n",
      " success: True\n",
      "       x: array([ 0.34414625,  0.93872125, -0.916588  ,  0.04499964,  0.92494705,\n",
      "       -0.03456402, -0.98186964, -0.6897142 , -0.11703144,  0.9360645 ,\n",
      "       -1.27149871,  0.64301708, -1.699833  , -0.6899289 ,  0.64295596,\n",
      "       -1.85336038, -1.9653464 , -0.68971419])\n"
     ]
    },
    {
     "data": {
      "text/plain": [
       "([array([0.32302805, 0.585411  , 0.09156095]),\n",
       "  array([0.23071818, 0.55620914, 0.21307268])],\n",
       " [array([0.27252096, 0.33409665, 0.47077549, 0.71830402, 0.21900081,\n",
       "         0.65543516]),\n",
       "  array([0.15448708, 0.33404889, 0.65542135, 0.13547883, 0.12288961,\n",
       "         0.33409666])])"
      ]
     },
     "execution_count": 3,
     "metadata": {},
     "output_type": "execute_result"
    }
   ],
   "source": [
    "# method='dual_annealing'\n",
    "mod.fit(method='dual_annealing')\n",
    "print(mod.theta_hat)\n",
    "# mod.validation(sim_sale,interval=0.1)\n",
    "mod.init_theta(mod.theta_hat.x,to_goods=False)"
   ]
  },
  {
   "cell_type": "code",
   "execution_count": 4,
   "metadata": {},
   "outputs": [
    {
     "data": {
      "text/plain": [
       "0.9585977609054074"
      ]
     },
     "execution_count": 4,
     "metadata": {},
     "output_type": "execute_result"
    },
    {
     "data": {
      "image/png": "[encoded data removed]",
      "text/plain": [
       "<Figure size 576x288 with 2 Axes>"
      ]
     },
     "metadata": {
      "needs_background": "light"
     },
     "output_type": "display_data"
    }
   ],
   "source": [
    "mod.score(SimSale=sim_sale,plot=True)"
   ]
  },
  {
   "cell_type": "code",
   "execution_count": 5,
   "metadata": {},
   "outputs": [
    {
     "data": {
      "text/plain": [
       "     fun: 132873.10682664096\n",
       " message: ['Maximum number of iteration reached']\n",
       "    nfev: 72044\n",
       "    nhev: 0\n",
       "     nit: 1000\n",
       "    njev: 1897\n",
       "  status: 0\n",
       " success: True\n",
       "       x: array([0.37828291, 0.69108979, 0.10692806, 0.38032486, 0.91871282,\n",
       "       0.35175372, 0.27882383, 0.37279918, 0.47755037, 0.72185883,\n",
       "       0.24710043, 0.66191954, 0.2114176 , 0.34444368, 0.66155657,\n",
       "       0.11170493, 0.0743404 , 0.37284711])"
      ]
     },
     "execution_count": 5,
     "metadata": {},
     "output_type": "execute_result"
    }
   ],
   "source": [
    "m1 = Demand(data=sale_df, goods_attr={'A': ['a', 'b','c'], 'B': ['a', 'b','c']},reparam=False)\n",
    "m1.fit()"
   ]
  },
  {
   "cell_type": "code",
   "execution_count": 6,
   "metadata": {},
   "outputs": [
    {
     "data": {
      "text/plain": [
       "     fun: 132878.90611269273\n",
       " message: ['Maximum number of iteration reached']\n",
       "    nfev: 84033\n",
       "    nhev: 0\n",
       "     nit: 1000\n",
       "    njev: 2528\n",
       "  status: 0\n",
       " success: True\n",
       "       x: array([ 0.3369478 ,  0.92880242, -0.92265637, -0.49448539,  0.38456332,\n",
       "       -0.57466857, -1.00270428, -0.74706362, -0.1205815 ,  0.92794657,\n",
       "       -1.31997625,  0.64411023, -2.70023295, -0.74724757,  0.64410287,\n",
       "       -1.341872  , -2.88591866, -0.74706356])"
      ]
     },
     "execution_count": 6,
     "metadata": {},
     "output_type": "execute_result"
    }
   ],
   "source": [
    "m2 = Demand(data=sale_df, goods_attr={'A': ['a', 'b','c'], 'B': ['a', 'b','c']},reparam=True)\n",
    "m2.fit()"
   ]
  },
  {
   "cell_type": "code",
   "execution_count": 7,
   "metadata": {},
   "outputs": [
    {
     "data": {
      "text/plain": [
       "0.9441196009309858"
      ]
     },
     "execution_count": 7,
     "metadata": {},
     "output_type": "execute_result"
    },
    {
     "data": {
      "image/png": "[encoded data removed]",
      "text/plain": [
       "<Figure size 576x288 with 2 Axes>"
      ]
     },
     "metadata": {
      "needs_background": "light"
     },
     "output_type": "display_data"
    }
   ],
   "source": [
    "m1.score(sim_sale,plot=True)"
   ]
  },
  {
   "cell_type": "code",
   "execution_count": 8,
   "metadata": {},
   "outputs": [
    {
     "data": {
      "text/plain": [
       "0.9454797775409153"
      ]
     },
     "execution_count": 8,
     "metadata": {},
     "output_type": "execute_result"
    },
    {
     "data": {
      "image/png": "[encoded data removed]",
      "text/plain": [
       "<Figure size 576x288 with 2 Axes>"
      ]
     },
     "metadata": {
      "needs_background": "light"
     },
     "output_type": "display_data"
    }
   ],
   "source": [
    "m2.score(sim_sale,plot=True)"
   ]
  },
  {
   "cell_type": "code",
   "execution_count": 21,
   "metadata": {},
   "outputs": [
    {
     "data": {
      "text/plain": [
       "0.8792280831441668"
      ]
     },
     "execution_count": 21,
     "metadata": {},
     "output_type": "execute_result"
    },
    {
     "data": {
      "image/png": "[encoded data removed]",
      "text/plain": [
       "<Figure size 576x288 with 2 Axes>"
      ]
     },
     "metadata": {
      "needs_background": "light"
     },
     "output_type": "display_data"
    }
   ],
   "source": [
    "m = Demand(data=sale_df, goods_attr={'A': ['a', 'b','c'], 'B': ['a', 'b','c']},reparam=False)\n",
    "m.fit(method='dual_annealing')\n",
    "m.score(sim_sale,plot=True)"
   ]
  },
  {
   "cell_type": "code",
   "execution_count": 6,
   "metadata": {},
   "outputs": [
    {
     "data": {
      "text/plain": [
       "0.7754661375256833"
      ]
     },
     "execution_count": 6,
     "metadata": {},
     "output_type": "execute_result"
    }
   ],
   "source": [
    "m.score(sim_sale)"
   ]
  },
  {
   "cell_type": "code",
   "execution_count": 11,
   "metadata": {},
   "outputs": [
    {
     "data": {
      "text/plain": [
       "[          a         b         c\n",
       " a  1.000000  0.308713  0.419093\n",
       " b  0.819426  1.000000  0.544098\n",
       " c  0.027284  0.745978  1.000000,\n",
       "           a         b         c\n",
       " a  1.000000  0.132701  0.399082\n",
       " b  0.201421  1.000000  0.742861\n",
       " c  0.277605  0.480339  1.000000]"
      ]
     },
     "execution_count": 11,
     "metadata": {},
     "output_type": "execute_result"
    }
   ],
   "source": [
    "np.on"
   ]
  },
  {
   "cell_type": "code",
   "execution_count": 23,
   "metadata": {},
   "outputs": [
    {
     "data": {
      "text/plain": [
       "array([0.81942557, 0.02728352, 0.74597798])"
      ]
     },
     "execution_count": 23,
     "metadata": {},
     "output_type": "execute_result"
    }
   ],
   "source": [
    "sim_sale.attr_pi_list[0].to_numpy()[np.tril_indices(3,k=-1)]"
   ]
  },
  {
   "cell_type": "code",
   "execution_count": 27,
   "metadata": {},
   "outputs": [
    {
     "data": {
      "text/plain": [
       "array([1.        , 0.81942557, 1.        , 0.02728352, 0.74597798,\n",
       "       1.        ])"
      ]
     },
     "execution_count": 27,
     "metadata": {},
     "output_type": "execute_result"
    }
   ],
   "source": [
    "tt=sim_sale.attr_pi_list[0].to_numpy()[np.tril_indices_from(sim_sale.attr_pi_list[0].to_numpy())]\n",
    "tt"
   ]
  },
  {
   "cell_type": "code",
   "execution_count": 41,
   "metadata": {},
   "outputs": [
    {
     "data": {
      "text/plain": [
       "array([ 0.26972216,  0.88525082, -0.99668347, -0.49479229,  0.3835931 ,\n",
       "       -0.57222145])"
      ]
     },
     "execution_count": 41,
     "metadata": {},
     "output_type": "execute_result"
    }
   ],
   "source": [
    "mod.theta_hat['x'][:len(mod.attr_type_flatten)]"
   ]
  },
  {
   "cell_type": "code",
   "execution_count": 38,
   "metadata": {},
   "outputs": [
    {
     "data": {
      "text/plain": [
       "array([ 0.26972216,  0.88525082, -0.99668347, -0.49479229,  0.3835931 ,\n",
       "       -0.57222145, -1.17175688, -0.21181671,  0.13236196,  1.42599408,\n",
       "       -2.11265591,  1.0625537 , -1.95208822, -0.21181671,  1.06254409,\n",
       "       -1.78146839, -2.11566626,  0.11561679])"
      ]
     },
     "execution_count": 38,
     "metadata": {},
     "output_type": "execute_result"
    }
   ],
   "source": [
    "mod.theta_hat['x']"
   ]
  },
  {
   "cell_type": "code",
   "execution_count": 15,
   "metadata": {},
   "outputs": [],
   "source": [
    "x_attr_pi_theta = np.array([])\n",
    "for attr_pi in sim_sale.attr_pi_list:\n",
    "    attr_pi         = attr_pi.to_numpy()\n",
    "    attr_pi_triu    = attr_pi[np.triu_indices_from(attr_pi,k=1)]\n",
    "    attr_pi_tril    = attr_pi[np.tril_indices_from(attr_pi,k=-1)]\n",
    "    x_attr_pi_theta = np.append(x_attr_pi_theta,attr_pi_triu)\n",
    "    x_attr_pi_theta = np.append(x_attr_pi_theta,attr_pi_tril)\n",
    "y_attr_pi_theta_hat = np.array(mod.theta_hat_attr_pi).flatten()"
   ]
  },
  {
   "cell_type": "code",
   "execution_count": 16,
   "metadata": {},
   "outputs": [
    {
     "data": {
      "text/plain": [
       "array([0.30871314, 0.41909318, 0.54409775, 0.81942557, 0.02728352,\n",
       "       0.74597798, 0.13270128, 0.39908186, 0.74286103, 0.20142069,\n",
       "       0.27760467, 0.48033906])"
      ]
     },
     "execution_count": 16,
     "metadata": {},
     "output_type": "execute_result"
    }
   ],
   "source": [
    "x_attr_pi_theta"
   ]
  },
  {
   "cell_type": "code",
   "execution_count": 16,
   "metadata": {},
   "outputs": [],
   "source": [
    "h = Jacobian(fun=mod.get_loglikelihood)\n",
    "t = h(mod.theta_hat['x'])"
   ]
  },
  {
   "cell_type": "code",
   "execution_count": 24,
   "metadata": {},
   "outputs": [],
   "source": [
    "from scipy.optimize import minimize\n",
    "m = minimize(fun=mod.get_loglikelihood,x0=mod.theta_hat.x,method='L-BFGS-B')"
   ]
  },
  {
   "cell_type": "code",
   "execution_count": 4,
   "metadata": {},
   "outputs": [
    {
     "data": {
      "text/plain": [
       "([[0.34080176836143106, 0.6361821717266645, 0.09990435377899741],\n",
       "  [0.30372936071590684, 0.7297918554230398, 0.2792784458691151]],\n",
       " [[0.2555581274181589,\n",
       "   0.36680115888663534,\n",
       "   0.47460906243182577,\n",
       "   0.749405412300485,\n",
       "   0.012755029061774606,\n",
       "   0.7567828933753964],\n",
       "  [0.2286725397182332,\n",
       "   0.30200098632066164,\n",
       "   0.6965992325720258,\n",
       "   0.10376124605132396,\n",
       "   0.059348060729832,\n",
       "   0.47460905500145095]])"
      ]
     },
     "execution_count": 4,
     "metadata": {},
     "output_type": "execute_result"
    }
   ],
   "source": [
    "mod.init_theta(mod.theta_hat.x,to_goods=False,reparam=False)"
   ]
  }
 ],
 "metadata": {
  "interpreter": {
   "hash": "bd268f7866a163180400200105e2f04e308ca1b14f67412b0fa0af36d347cc58"
  },
  "kernelspec": {
   "display_name": "Python 3.9.7 ('analysis')",
   "language": "python",
   "name": "python3"
  },
  "language_info": {
   "codemirror_mode": {
    "name": "ipython",
    "version": 3
   },
   "file_extension": ".py",
   "mimetype": "text/x-python",
   "name": "python",
   "nbconvert_exporter": "python",
   "pygments_lexer": "ipython3",
   "version": "3.9.7"
  },
  "orig_nbformat": 4
 },
 "nbformat": 4,
 "nbformat_minor": 2
}
