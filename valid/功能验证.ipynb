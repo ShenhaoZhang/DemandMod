{
 "cells": [
  {
   "cell_type": "code",
   "execution_count": 1,
   "metadata": {},
   "outputs": [],
   "source": [
    "import sys\n",
    "sys.path.append('..')\n",
    "\n",
    "import numpy as np \n",
    "import pandas as pd \n",
    "from scipy.optimize import root\n",
    "\n",
    "from mod.SimSale import SimSale\n",
    "from mod.Demand import Demand\n",
    "from numba import jit\n",
    "\n",
    "from numdifftools import Hessian,Jacobian"
   ]
  },
  {
   "cell_type": "markdown",
   "metadata": {},
   "source": [
    "## 1.模拟数据 及 待估计参数"
   ]
  },
  {
   "cell_type": "code",
   "execution_count": 26,
   "metadata": {},
   "outputs": [
    {
     "name": "stdout",
     "output_type": "stream",
     "text": [
      "a    0.479890\n",
      "b    0.104251\n",
      "c    0.415859\n",
      "Name: A, dtype: float64\n",
      "a    0.267030\n",
      "b    0.349371\n",
      "c    0.383599\n",
      "Name: B, dtype: float64\n",
      "          a         b         c\n",
      "a  1.000000  0.461524  0.122328\n",
      "b  0.620133  1.000000  0.382958\n",
      "c  0.861233  0.742800  1.000000\n",
      "          a         b         c\n",
      "a  1.000000  0.130495  0.671022\n",
      "b  0.125416  1.000000  0.203503\n",
      "c  0.767916  0.275686  1.000000\n"
     ]
    },
    {
     "data": {
      "text/html": [
       "<div>\n",
       "<style scoped>\n",
       "    .dataframe tbody tr th:only-of-type {\n",
       "        vertical-align: middle;\n",
       "    }\n",
       "\n",
       "    .dataframe tbody tr th {\n",
       "        vertical-align: top;\n",
       "    }\n",
       "\n",
       "    .dataframe thead th {\n",
       "        text-align: right;\n",
       "    }\n",
       "</style>\n",
       "<table border=\"1\" class=\"dataframe\">\n",
       "  <thead>\n",
       "    <tr style=\"text-align: right;\">\n",
       "      <th></th>\n",
       "      <th>A_a*B_a</th>\n",
       "      <th>A_a*B_b</th>\n",
       "      <th>A_a*B_c</th>\n",
       "      <th>A_b*B_a</th>\n",
       "      <th>A_b*B_b</th>\n",
       "      <th>A_b*B_c</th>\n",
       "      <th>A_c*B_a</th>\n",
       "      <th>A_c*B_b</th>\n",
       "      <th>A_c*B_c</th>\n",
       "    </tr>\n",
       "  </thead>\n",
       "  <tbody>\n",
       "    <tr>\n",
       "      <th>0</th>\n",
       "      <td>NaN</td>\n",
       "      <td>165.0</td>\n",
       "      <td>270.0</td>\n",
       "      <td>118.0</td>\n",
       "      <td>38.0</td>\n",
       "      <td>41.0</td>\n",
       "      <td>NaN</td>\n",
       "      <td>139.0</td>\n",
       "      <td>159.0</td>\n",
       "    </tr>\n",
       "    <tr>\n",
       "      <th>1</th>\n",
       "      <td>127.0</td>\n",
       "      <td>NaN</td>\n",
       "      <td>187.0</td>\n",
       "      <td>NaN</td>\n",
       "      <td>110.0</td>\n",
       "      <td>54.0</td>\n",
       "      <td>126.0</td>\n",
       "      <td>146.0</td>\n",
       "      <td>144.0</td>\n",
       "    </tr>\n",
       "    <tr>\n",
       "      <th>2</th>\n",
       "      <td>213.0</td>\n",
       "      <td>168.0</td>\n",
       "      <td>192.0</td>\n",
       "      <td>57.0</td>\n",
       "      <td>42.0</td>\n",
       "      <td>NaN</td>\n",
       "      <td>NaN</td>\n",
       "      <td>151.0</td>\n",
       "      <td>155.0</td>\n",
       "    </tr>\n",
       "    <tr>\n",
       "      <th>3</th>\n",
       "      <td>242.0</td>\n",
       "      <td>303.0</td>\n",
       "      <td>NaN</td>\n",
       "      <td>28.0</td>\n",
       "      <td>46.0</td>\n",
       "      <td>41.0</td>\n",
       "      <td>112.0</td>\n",
       "      <td>NaN</td>\n",
       "      <td>168.0</td>\n",
       "    </tr>\n",
       "    <tr>\n",
       "      <th>4</th>\n",
       "      <td>147.0</td>\n",
       "      <td>151.0</td>\n",
       "      <td>214.0</td>\n",
       "      <td>NaN</td>\n",
       "      <td>38.0</td>\n",
       "      <td>NaN</td>\n",
       "      <td>124.0</td>\n",
       "      <td>127.0</td>\n",
       "      <td>133.0</td>\n",
       "    </tr>\n",
       "    <tr>\n",
       "      <th>...</th>\n",
       "      <td>...</td>\n",
       "      <td>...</td>\n",
       "      <td>...</td>\n",
       "      <td>...</td>\n",
       "      <td>...</td>\n",
       "      <td>...</td>\n",
       "      <td>...</td>\n",
       "      <td>...</td>\n",
       "      <td>...</td>\n",
       "    </tr>\n",
       "    <tr>\n",
       "      <th>195</th>\n",
       "      <td>123.0</td>\n",
       "      <td>290.0</td>\n",
       "      <td>206.0</td>\n",
       "      <td>48.0</td>\n",
       "      <td>36.0</td>\n",
       "      <td>NaN</td>\n",
       "      <td>121.0</td>\n",
       "      <td>NaN</td>\n",
       "      <td>167.0</td>\n",
       "    </tr>\n",
       "    <tr>\n",
       "      <th>196</th>\n",
       "      <td>113.0</td>\n",
       "      <td>171.0</td>\n",
       "      <td>334.0</td>\n",
       "      <td>53.0</td>\n",
       "      <td>35.0</td>\n",
       "      <td>NaN</td>\n",
       "      <td>124.0</td>\n",
       "      <td>154.0</td>\n",
       "      <td>NaN</td>\n",
       "    </tr>\n",
       "    <tr>\n",
       "      <th>197</th>\n",
       "      <td>130.0</td>\n",
       "      <td>185.0</td>\n",
       "      <td>319.0</td>\n",
       "      <td>31.0</td>\n",
       "      <td>NaN</td>\n",
       "      <td>25.0</td>\n",
       "      <td>98.0</td>\n",
       "      <td>132.0</td>\n",
       "      <td>NaN</td>\n",
       "    </tr>\n",
       "    <tr>\n",
       "      <th>198</th>\n",
       "      <td>122.0</td>\n",
       "      <td>175.0</td>\n",
       "      <td>192.0</td>\n",
       "      <td>NaN</td>\n",
       "      <td>NaN</td>\n",
       "      <td>54.0</td>\n",
       "      <td>124.0</td>\n",
       "      <td>164.0</td>\n",
       "      <td>151.0</td>\n",
       "    </tr>\n",
       "    <tr>\n",
       "      <th>199</th>\n",
       "      <td>143.0</td>\n",
       "      <td>NaN</td>\n",
       "      <td>176.0</td>\n",
       "      <td>NaN</td>\n",
       "      <td>117.0</td>\n",
       "      <td>60.0</td>\n",
       "      <td>105.0</td>\n",
       "      <td>135.0</td>\n",
       "      <td>155.0</td>\n",
       "    </tr>\n",
       "  </tbody>\n",
       "</table>\n",
       "<p>200 rows × 9 columns</p>\n",
       "</div>"
      ],
      "text/plain": [
       "     A_a*B_a  A_a*B_b  A_a*B_c  A_b*B_a  A_b*B_b  A_b*B_c  A_c*B_a  A_c*B_b  \\\n",
       "0        NaN    165.0    270.0    118.0     38.0     41.0      NaN    139.0   \n",
       "1      127.0      NaN    187.0      NaN    110.0     54.0    126.0    146.0   \n",
       "2      213.0    168.0    192.0     57.0     42.0      NaN      NaN    151.0   \n",
       "3      242.0    303.0      NaN     28.0     46.0     41.0    112.0      NaN   \n",
       "4      147.0    151.0    214.0      NaN     38.0      NaN    124.0    127.0   \n",
       "..       ...      ...      ...      ...      ...      ...      ...      ...   \n",
       "195    123.0    290.0    206.0     48.0     36.0      NaN    121.0      NaN   \n",
       "196    113.0    171.0    334.0     53.0     35.0      NaN    124.0    154.0   \n",
       "197    130.0    185.0    319.0     31.0      NaN     25.0     98.0    132.0   \n",
       "198    122.0    175.0    192.0      NaN      NaN     54.0    124.0    164.0   \n",
       "199    143.0      NaN    176.0      NaN    117.0     60.0    105.0    135.0   \n",
       "\n",
       "     A_c*B_c  \n",
       "0      159.0  \n",
       "1      144.0  \n",
       "2      155.0  \n",
       "3      168.0  \n",
       "4      133.0  \n",
       "..       ...  \n",
       "195    167.0  \n",
       "196      NaN  \n",
       "197      NaN  \n",
       "198    151.0  \n",
       "199    155.0  \n",
       "\n",
       "[200 rows x 9 columns]"
      ]
     },
     "execution_count": 26,
     "metadata": {},
     "output_type": "execute_result"
    }
   ],
   "source": [
    "sim_sale=SimSale(level_size=[3,3],seed=10)\n",
    "sale_df = sim_sale.generate_sale(lam=1000,size=200,un_ava_frac=0.25,un_ava_mix=True)\n",
    "# sale_df\n",
    "print(sim_sale.attr_f_list[0])\n",
    "print(sim_sale.attr_f_list[1])\n",
    "print(sim_sale.attr_pi_list[0])\n",
    "print(sim_sale.attr_pi_list[1]) \n",
    "mod = Demand(data=sale_df, \n",
    "             goods_attr={'A': list('abc'), 'B': list('abc')})\n",
    "sale_df.reset_index(drop=True)"
   ]
  },
  {
   "cell_type": "markdown",
   "metadata": {},
   "source": [
    "## 2.参数估计"
   ]
  },
  {
   "cell_type": "code",
   "execution_count": 27,
   "metadata": {},
   "outputs": [
    {
     "name": "stdout",
     "output_type": "stream",
     "text": [
      "     fun: 328443.37817648705\n",
      " message: ['Maximum number of iteration reached']\n",
      "    nfev: 79302\n",
      "    nhev: 0\n",
      "     nit: 1000\n",
      "    njev: 2279\n",
      "  status: 0\n",
      " success: True\n",
      "       x: array([ 0.57511988, -0.93876651,  0.42336447, -0.30371031, -0.03785474,\n",
      "        0.06263612, -0.20227532, -1.87430234, -0.57961592, -0.00387701,\n",
      "        1.84427509,  1.18411411, -1.0681617 ,  0.59601297, -1.23595537,\n",
      "       -2.02749372,  1.18411411, -1.65879967])\n",
      "([array([0.4809423 , 0.10583284, 0.41322486]), array([0.26688006, 0.34815749, 0.38496245])], [array([0.44960289, 0.13304469, 0.35902098, 0.49903075, 0.86345353,\n",
      "       0.76568673]), array([0.25575284, 0.64474361, 0.2251408 , 0.11634634, 0.76568673,\n",
      "       0.15992319])])\n"
     ]
    },
    {
     "data": {
      "text/plain": [
       "0.9736333661070407"
      ]
     },
     "execution_count": 27,
     "metadata": {},
     "output_type": "execute_result"
    },
    {
     "data": {
      "image/png": "[encoded data removed]",
      "text/plain": [
       "<Figure size 576x288 with 2 Axes>"
      ]
     },
     "metadata": {
      "needs_background": "light"
     },
     "output_type": "display_data"
    }
   ],
   "source": [
    "# method='dual_annealing'\n",
    "mod.fit(method='dual_annealing',maxiter=1000)\n",
    "print(mod.theta_hat)\n",
    "print(mod.init_theta(mod.theta_hat.x,to_goods=False))\n",
    "\n",
    "mod.score(SimSale=sim_sale,plot=True)"
   ]
  },
  {
   "cell_type": "code",
   "execution_count": 16,
   "metadata": {},
   "outputs": [
    {
     "data": {
      "text/plain": [
       "[      A_a   A_b\n",
       " A_a   NaN  79.0\n",
       " A_b  80.0   NaN,\n",
       "       B_a   B_b\n",
       " B_a   NaN  81.0\n",
       " B_b  88.0   NaN]"
      ]
     },
     "execution_count": 16,
     "metadata": {},
     "output_type": "execute_result"
    }
   ],
   "source": [
    "mod.attr_trans"
   ]
  },
  {
   "cell_type": "code",
   "execution_count": 28,
   "metadata": {},
   "outputs": [
    {
     "data": {
      "image/png": "[encoded data removed]",
      "text/plain": [
       "<Figure size 432x288 with 1 Axes>"
      ]
     },
     "metadata": {
      "needs_background": "light"
     },
     "output_type": "display_data"
    }
   ],
   "source": [
    "a,b,c=mod.conf_int(SimSale=sim_sale,bootstrap_n=20)"
   ]
  },
  {
   "cell_type": "code",
   "execution_count": null,
   "metadata": {},
   "outputs": [],
   "source": [
    "level = 0.95\n",
    "theta_matrix = np.column_stack(c)\n",
    "\n",
    "int_up       = np.quantile(theta_matrix,q=level+(1-level)/2,axis=1)\n",
    "int_up       = mod.init_theta(int_up,to_goods=False)\n",
    "int_up       = np.append(np.concatenate(int_up[0]),np.concatenate(int_up[1]))\n",
    "\n",
    "int_dw       = np.quantile(theta_matrix,q=(1-level)/2,axis=1)\n",
    "int_dw       = mod.init_theta(int_dw,to_goods=False)\n",
    "int_dw       = np.append(np.concatenate(int_dw[0]),np.concatenate(int_dw[1]))\n",
    "\n",
    "int_md       = np.quantile(theta_matrix,q=0.5,axis=1)\n",
    "int_md       = mod.init_theta(int_md,to_goods=False)\n",
    "int_md       = np.append(np.concatenate(int_md[0]),np.concatenate(int_md[1]))"
   ]
  },
  {
   "cell_type": "code",
   "execution_count": null,
   "metadata": {},
   "outputs": [],
   "source": [
    "int_dw"
   ]
  },
  {
   "cell_type": "code",
   "execution_count": null,
   "metadata": {},
   "outputs": [],
   "source": [
    "c"
   ]
  }
 ],
 "metadata": {
  "interpreter": {
   "hash": "bd268f7866a163180400200105e2f04e308ca1b14f67412b0fa0af36d347cc58"
  },
  "kernelspec": {
   "display_name": "Python 3.9.7 ('analysis')",
   "language": "python",
   "name": "python3"
  },
  "language_info": {
   "codemirror_mode": {
    "name": "ipython",
    "version": 3
   },
   "file_extension": ".py",
   "mimetype": "text/x-python",
   "name": "python",
   "nbconvert_exporter": "python",
   "pygments_lexer": "ipython3",
   "version": "3.9.7"
  },
  "orig_nbformat": 4
 },
 "nbformat": 4,
 "nbformat_minor": 2
}
