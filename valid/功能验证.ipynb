{
 "cells": [
  {
   "cell_type": "code",
   "execution_count": 1,
   "metadata": {},
   "outputs": [],
   "source": [
    "import sys\n",
    "sys.path.append('..')\n",
    "\n",
    "import numpy as np \n",
    "import pandas as pd \n",
    "\n",
    "from mod.SimSale import SimSale\n",
    "from mod.Demand import Demand\n",
    "from numba import jit\n",
    "\n",
    "# from numdifftools import Hessian,Jacobian"
   ]
  },
  {
   "cell_type": "markdown",
   "metadata": {},
   "source": [
    "## 1.模拟数据 及 待估计参数"
   ]
  },
  {
   "cell_type": "code",
   "execution_count": 2,
   "metadata": {},
   "outputs": [
    {
     "name": "stdout",
     "output_type": "stream",
     "text": [
      "a    0.479890\n",
      "b    0.104251\n",
      "c    0.415859\n",
      "Name: A, dtype: float64\n",
      "a    0.267030\n",
      "b    0.349371\n",
      "c    0.383599\n",
      "Name: B, dtype: float64\n",
      "          a         b         c\n",
      "a  1.000000  0.461524  0.122328\n",
      "b  0.620133  1.000000  0.382958\n",
      "c  0.861233  0.742800  1.000000\n",
      "          a         b         c\n",
      "a  1.000000  0.130495  0.671022\n",
      "b  0.125416  1.000000  0.203503\n",
      "c  0.767916  0.275686  1.000000\n"
     ]
    },
    {
     "data": {
      "text/html": [
       "<div>\n",
       "<style scoped>\n",
       "    .dataframe tbody tr th:only-of-type {\n",
       "        vertical-align: middle;\n",
       "    }\n",
       "\n",
       "    .dataframe tbody tr th {\n",
       "        vertical-align: top;\n",
       "    }\n",
       "\n",
       "    .dataframe thead th {\n",
       "        text-align: right;\n",
       "    }\n",
       "</style>\n",
       "<table border=\"1\" class=\"dataframe\">\n",
       "  <thead>\n",
       "    <tr style=\"text-align: right;\">\n",
       "      <th></th>\n",
       "      <th>A_a*B_a</th>\n",
       "      <th>A_a*B_b</th>\n",
       "      <th>A_a*B_c</th>\n",
       "      <th>A_b*B_a</th>\n",
       "      <th>A_b*B_b</th>\n",
       "      <th>A_b*B_c</th>\n",
       "      <th>A_c*B_a</th>\n",
       "      <th>A_c*B_b</th>\n",
       "      <th>A_c*B_c</th>\n",
       "    </tr>\n",
       "  </thead>\n",
       "  <tbody>\n",
       "    <tr>\n",
       "      <th>0</th>\n",
       "      <td>NaN</td>\n",
       "      <td>NaN</td>\n",
       "      <td>270.0</td>\n",
       "      <td>34.0</td>\n",
       "      <td>114.0</td>\n",
       "      <td>41.0</td>\n",
       "      <td>114.0</td>\n",
       "      <td>139.0</td>\n",
       "      <td>159.0</td>\n",
       "    </tr>\n",
       "    <tr>\n",
       "      <th>1</th>\n",
       "      <td>270.0</td>\n",
       "      <td>165.0</td>\n",
       "      <td>NaN</td>\n",
       "      <td>NaN</td>\n",
       "      <td>34.0</td>\n",
       "      <td>54.0</td>\n",
       "      <td>126.0</td>\n",
       "      <td>146.0</td>\n",
       "      <td>144.0</td>\n",
       "    </tr>\n",
       "    <tr>\n",
       "      <th>2</th>\n",
       "      <td>128.0</td>\n",
       "      <td>168.0</td>\n",
       "      <td>325.0</td>\n",
       "      <td>NaN</td>\n",
       "      <td>42.0</td>\n",
       "      <td>58.0</td>\n",
       "      <td>99.0</td>\n",
       "      <td>151.0</td>\n",
       "      <td>NaN</td>\n",
       "    </tr>\n",
       "    <tr>\n",
       "      <th>3</th>\n",
       "      <td>242.0</td>\n",
       "      <td>173.0</td>\n",
       "      <td>NaN</td>\n",
       "      <td>NaN</td>\n",
       "      <td>46.0</td>\n",
       "      <td>59.0</td>\n",
       "      <td>112.0</td>\n",
       "      <td>151.0</td>\n",
       "      <td>168.0</td>\n",
       "    </tr>\n",
       "    <tr>\n",
       "      <th>4</th>\n",
       "      <td>129.0</td>\n",
       "      <td>151.0</td>\n",
       "      <td>306.0</td>\n",
       "      <td>58.0</td>\n",
       "      <td>38.0</td>\n",
       "      <td>NaN</td>\n",
       "      <td>124.0</td>\n",
       "      <td>127.0</td>\n",
       "      <td>NaN</td>\n",
       "    </tr>\n",
       "    <tr>\n",
       "      <th>...</th>\n",
       "      <td>...</td>\n",
       "      <td>...</td>\n",
       "      <td>...</td>\n",
       "      <td>...</td>\n",
       "      <td>...</td>\n",
       "      <td>...</td>\n",
       "      <td>...</td>\n",
       "      <td>...</td>\n",
       "      <td>...</td>\n",
       "    </tr>\n",
       "    <tr>\n",
       "      <th>195</th>\n",
       "      <td>123.0</td>\n",
       "      <td>290.0</td>\n",
       "      <td>206.0</td>\n",
       "      <td>48.0</td>\n",
       "      <td>36.0</td>\n",
       "      <td>NaN</td>\n",
       "      <td>121.0</td>\n",
       "      <td>NaN</td>\n",
       "      <td>167.0</td>\n",
       "    </tr>\n",
       "    <tr>\n",
       "      <th>196</th>\n",
       "      <td>265.0</td>\n",
       "      <td>303.0</td>\n",
       "      <td>NaN</td>\n",
       "      <td>30.0</td>\n",
       "      <td>35.0</td>\n",
       "      <td>30.0</td>\n",
       "      <td>124.0</td>\n",
       "      <td>NaN</td>\n",
       "      <td>159.0</td>\n",
       "    </tr>\n",
       "    <tr>\n",
       "      <th>197</th>\n",
       "      <td>130.0</td>\n",
       "      <td>NaN</td>\n",
       "      <td>181.0</td>\n",
       "      <td>31.0</td>\n",
       "      <td>203.0</td>\n",
       "      <td>25.0</td>\n",
       "      <td>98.0</td>\n",
       "      <td>NaN</td>\n",
       "      <td>161.0</td>\n",
       "    </tr>\n",
       "    <tr>\n",
       "      <th>198</th>\n",
       "      <td>NaN</td>\n",
       "      <td>151.0</td>\n",
       "      <td>273.0</td>\n",
       "      <td>NaN</td>\n",
       "      <td>39.0</td>\n",
       "      <td>54.0</td>\n",
       "      <td>124.0</td>\n",
       "      <td>164.0</td>\n",
       "      <td>151.0</td>\n",
       "    </tr>\n",
       "    <tr>\n",
       "      <th>199</th>\n",
       "      <td>233.0</td>\n",
       "      <td>174.0</td>\n",
       "      <td>176.0</td>\n",
       "      <td>NaN</td>\n",
       "      <td>37.0</td>\n",
       "      <td>60.0</td>\n",
       "      <td>NaN</td>\n",
       "      <td>135.0</td>\n",
       "      <td>155.0</td>\n",
       "    </tr>\n",
       "  </tbody>\n",
       "</table>\n",
       "<p>200 rows × 9 columns</p>\n",
       "</div>"
      ],
      "text/plain": [
       "     A_a*B_a  A_a*B_b  A_a*B_c  A_b*B_a  A_b*B_b  A_b*B_c  A_c*B_a  A_c*B_b  \\\n",
       "0        NaN      NaN    270.0     34.0    114.0     41.0    114.0    139.0   \n",
       "1      270.0    165.0      NaN      NaN     34.0     54.0    126.0    146.0   \n",
       "2      128.0    168.0    325.0      NaN     42.0     58.0     99.0    151.0   \n",
       "3      242.0    173.0      NaN      NaN     46.0     59.0    112.0    151.0   \n",
       "4      129.0    151.0    306.0     58.0     38.0      NaN    124.0    127.0   \n",
       "..       ...      ...      ...      ...      ...      ...      ...      ...   \n",
       "195    123.0    290.0    206.0     48.0     36.0      NaN    121.0      NaN   \n",
       "196    265.0    303.0      NaN     30.0     35.0     30.0    124.0      NaN   \n",
       "197    130.0      NaN    181.0     31.0    203.0     25.0     98.0      NaN   \n",
       "198      NaN    151.0    273.0      NaN     39.0     54.0    124.0    164.0   \n",
       "199    233.0    174.0    176.0      NaN     37.0     60.0      NaN    135.0   \n",
       "\n",
       "     A_c*B_c  \n",
       "0      159.0  \n",
       "1      144.0  \n",
       "2        NaN  \n",
       "3      168.0  \n",
       "4        NaN  \n",
       "..       ...  \n",
       "195    167.0  \n",
       "196    159.0  \n",
       "197    161.0  \n",
       "198    151.0  \n",
       "199    155.0  \n",
       "\n",
       "[200 rows x 9 columns]"
      ]
     },
     "execution_count": 2,
     "metadata": {},
     "output_type": "execute_result"
    }
   ],
   "source": [
    "sim_sale=SimSale(level_size=[3,3],seed=10)\n",
    "sale_df = sim_sale.generate_sale(lam=1000,size=200,un_ava_frac=0.25,un_ava_mix=True)\n",
    "print(sim_sale.attr_f_list[0])\n",
    "print(sim_sale.attr_f_list[1])\n",
    "print(sim_sale.attr_pi_list[0])\n",
    "print(sim_sale.attr_pi_list[1]) \n",
    "mod = Demand(data=sale_df, \n",
    "             goods_attr={'A': list('abc'), 'B': list('abc')})\n",
    "sale_df"
   ]
  },
  {
   "cell_type": "markdown",
   "metadata": {},
   "source": [
    "## 2.参数估计"
   ]
  },
  {
   "cell_type": "code",
   "execution_count": 3,
   "metadata": {},
   "outputs": [
    {
     "name": "stdout",
     "output_type": "stream",
     "text": [
      "     fun: 328954.9319686298\n",
      " message: ['Maximum number of iteration reached']\n",
      "    nfev: 46261\n",
      "    nhev: 0\n",
      "     nit: 1000\n",
      "    njev: 540\n",
      "  status: 0\n",
      " success: True\n",
      "       x: array([ 0.86248515, -0.65867949,  0.71048686, -0.47686912, -0.20719712,\n",
      "       -0.10978797, -0.21306837, -2.1239398 , -0.7135153 , -0.27375993,\n",
      "        1.75085808,  0.96506361, -1.7800049 ,  0.86690113, -1.66288694,\n",
      "       -2.2056761 ,  1.12478998, -0.29924452])\n",
      "([array([0.48136004, 0.10515662, 0.41348334]), array([0.26644996, 0.34892551, 0.38462453])], [array([0.44693351, 0.10679168, 0.32882255, 0.43198427, 0.852061  ,\n",
      "       0.72413448]), array([0.14430253, 0.70410048, 0.15937484, 0.09924193, 0.75487613,\n",
      "       0.42574218])])\n"
     ]
    },
    {
     "data": {
      "text/plain": [
       "0.9670384634667929"
      ]
     },
     "execution_count": 3,
     "metadata": {},
     "output_type": "execute_result"
    },
    {
     "data": {
      "image/png": "[encoded data removed]",
      "text/plain": [
       "<Figure size 576x288 with 2 Axes>"
      ]
     },
     "metadata": {
      "needs_background": "light"
     },
     "output_type": "display_data"
    }
   ],
   "source": [
    "# method='dual_annealing'\n",
    "mod.fit(method='dual_annealing',maxiter=1000)\n",
    "print(mod.theta_hat)\n",
    "print(mod.init_theta(mod.theta_hat.x,to_goods=False))\n",
    "\n",
    "mod.score(SimSale=sim_sale,plot=True)"
   ]
  },
  {
   "cell_type": "code",
   "execution_count": null,
   "metadata": {},
   "outputs": [],
   "source": [
    "mod.attr_trans"
   ]
  },
  {
   "cell_type": "code",
   "execution_count": null,
   "metadata": {},
   "outputs": [],
   "source": [
    "mod.conf_int(SimSale=sim_sale,bootstrap_n=30)"
   ]
  },
  {
   "cell_type": "code",
   "execution_count": null,
   "metadata": {},
   "outputs": [],
   "source": [
    "mod.init_theta(np.zeros(18))"
   ]
  },
  {
   "cell_type": "code",
   "execution_count": null,
   "metadata": {},
   "outputs": [],
   "source": [
    "int_dw"
   ]
  },
  {
   "cell_type": "code",
   "execution_count": null,
   "metadata": {},
   "outputs": [],
   "source": [
    "c"
   ]
  }
 ],
 "metadata": {
  "interpreter": {
   "hash": "bd268f7866a163180400200105e2f04e308ca1b14f67412b0fa0af36d347cc58"
  },
  "kernelspec": {
   "display_name": "Python 3.9.7 ('analysis')",
   "language": "python",
   "name": "python3"
  },
  "language_info": {
   "codemirror_mode": {
    "name": "ipython",
    "version": 3
   },
   "file_extension": ".py",
   "mimetype": "text/x-python",
   "name": "python",
   "nbconvert_exporter": "python",
   "pygments_lexer": "ipython3",
   "version": "3.9.7"
  },
  "orig_nbformat": 4
 },
 "nbformat": 4,
 "nbformat_minor": 2
}
