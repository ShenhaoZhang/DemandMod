{
 "cells": [
  {
   "cell_type": "code",
   "execution_count": 1,
   "metadata": {},
   "outputs": [],
   "source": [
    "import sys\n",
    "sys.path.append('..')\n",
    "\n",
    "import numpy as np \n",
    "import pandas as pd \n",
    "\n",
    "from mod.SimSale import SimSale\n",
    "from mod.Demand import Demand\n",
    "from numba import jit\n",
    "\n",
    "# from numdifftools import Hessian,Jacobian"
   ]
  },
  {
   "cell_type": "markdown",
   "metadata": {},
   "source": [
    "## 1.模拟数据 及 待估计参数"
   ]
  },
  {
   "cell_type": "code",
   "execution_count": 15,
   "metadata": {},
   "outputs": [
    {
     "name": "stdout",
     "output_type": "stream",
     "text": [
      "a    0.485342\n",
      "b    0.346753\n",
      "c    0.167905\n",
      "Name: A, dtype: float64\n",
      "a    0.347622\n",
      "b    0.320975\n",
      "c    0.331403\n",
      "Name: B, dtype: float64\n",
      "          a         b         c\n",
      "a  1.000000  0.876289  0.536825\n",
      "b  0.711237  1.000000  0.619339\n",
      "c  0.170992  0.883331  1.000000\n",
      "         a         b         c\n",
      "a  1.00000  0.896199  0.451751\n",
      "b  0.69392  1.000000  0.897907\n",
      "c  0.88076  0.354211  1.000000\n"
     ]
    },
    {
     "data": {
      "text/html": [
       "<div>\n",
       "<style scoped>\n",
       "    .dataframe tbody tr th:only-of-type {\n",
       "        vertical-align: middle;\n",
       "    }\n",
       "\n",
       "    .dataframe tbody tr th {\n",
       "        vertical-align: top;\n",
       "    }\n",
       "\n",
       "    .dataframe thead th {\n",
       "        text-align: right;\n",
       "    }\n",
       "</style>\n",
       "<table border=\"1\" class=\"dataframe\">\n",
       "  <thead>\n",
       "    <tr style=\"text-align: right;\">\n",
       "      <th></th>\n",
       "      <th>A_a*B_a</th>\n",
       "      <th>A_a*B_b</th>\n",
       "      <th>A_a*B_c</th>\n",
       "      <th>A_b*B_a</th>\n",
       "      <th>A_b*B_b</th>\n",
       "      <th>A_b*B_c</th>\n",
       "      <th>A_c*B_a</th>\n",
       "      <th>A_c*B_b</th>\n",
       "      <th>A_c*B_c</th>\n",
       "    </tr>\n",
       "  </thead>\n",
       "  <tbody>\n",
       "    <tr>\n",
       "      <th>0</th>\n",
       "      <td>NaN</td>\n",
       "      <td>321.0</td>\n",
       "      <td>146.0</td>\n",
       "      <td>126.0</td>\n",
       "      <td>107.0</td>\n",
       "      <td>123.0</td>\n",
       "      <td>NaN</td>\n",
       "      <td>135.0</td>\n",
       "      <td>56.0</td>\n",
       "    </tr>\n",
       "    <tr>\n",
       "      <th>1</th>\n",
       "      <td>150.0</td>\n",
       "      <td>167.0</td>\n",
       "      <td>179.0</td>\n",
       "      <td>125.0</td>\n",
       "      <td>NaN</td>\n",
       "      <td>197.0</td>\n",
       "      <td>NaN</td>\n",
       "      <td>115.0</td>\n",
       "      <td>50.0</td>\n",
       "    </tr>\n",
       "    <tr>\n",
       "      <th>2</th>\n",
       "      <td>NaN</td>\n",
       "      <td>315.0</td>\n",
       "      <td>156.0</td>\n",
       "      <td>122.0</td>\n",
       "      <td>104.0</td>\n",
       "      <td>107.0</td>\n",
       "      <td>NaN</td>\n",
       "      <td>112.0</td>\n",
       "      <td>55.0</td>\n",
       "    </tr>\n",
       "    <tr>\n",
       "      <th>3</th>\n",
       "      <td>165.0</td>\n",
       "      <td>166.0</td>\n",
       "      <td>190.0</td>\n",
       "      <td>179.0</td>\n",
       "      <td>98.0</td>\n",
       "      <td>114.0</td>\n",
       "      <td>NaN</td>\n",
       "      <td>NaN</td>\n",
       "      <td>97.0</td>\n",
       "    </tr>\n",
       "    <tr>\n",
       "      <th>4</th>\n",
       "      <td>NaN</td>\n",
       "      <td>NaN</td>\n",
       "      <td>308.0</td>\n",
       "      <td>259.0</td>\n",
       "      <td>123.0</td>\n",
       "      <td>131.0</td>\n",
       "      <td>43.0</td>\n",
       "      <td>69.0</td>\n",
       "      <td>51.0</td>\n",
       "    </tr>\n",
       "    <tr>\n",
       "      <th>...</th>\n",
       "      <td>...</td>\n",
       "      <td>...</td>\n",
       "      <td>...</td>\n",
       "      <td>...</td>\n",
       "      <td>...</td>\n",
       "      <td>...</td>\n",
       "      <td>...</td>\n",
       "      <td>...</td>\n",
       "      <td>...</td>\n",
       "    </tr>\n",
       "    <tr>\n",
       "      <th>195</th>\n",
       "      <td>NaN</td>\n",
       "      <td>304.0</td>\n",
       "      <td>160.0</td>\n",
       "      <td>95.0</td>\n",
       "      <td>111.0</td>\n",
       "      <td>98.0</td>\n",
       "      <td>NaN</td>\n",
       "      <td>116.0</td>\n",
       "      <td>53.0</td>\n",
       "    </tr>\n",
       "    <tr>\n",
       "      <th>196</th>\n",
       "      <td>NaN</td>\n",
       "      <td>312.0</td>\n",
       "      <td>146.0</td>\n",
       "      <td>NaN</td>\n",
       "      <td>202.0</td>\n",
       "      <td>109.0</td>\n",
       "      <td>63.0</td>\n",
       "      <td>49.0</td>\n",
       "      <td>71.0</td>\n",
       "    </tr>\n",
       "    <tr>\n",
       "      <th>197</th>\n",
       "      <td>172.0</td>\n",
       "      <td>NaN</td>\n",
       "      <td>294.0</td>\n",
       "      <td>234.0</td>\n",
       "      <td>108.0</td>\n",
       "      <td>NaN</td>\n",
       "      <td>61.0</td>\n",
       "      <td>55.0</td>\n",
       "      <td>64.0</td>\n",
       "    </tr>\n",
       "    <tr>\n",
       "      <th>198</th>\n",
       "      <td>163.0</td>\n",
       "      <td>238.0</td>\n",
       "      <td>170.0</td>\n",
       "      <td>214.0</td>\n",
       "      <td>NaN</td>\n",
       "      <td>NaN</td>\n",
       "      <td>58.0</td>\n",
       "      <td>66.0</td>\n",
       "      <td>56.0</td>\n",
       "    </tr>\n",
       "    <tr>\n",
       "      <th>199</th>\n",
       "      <td>152.0</td>\n",
       "      <td>NaN</td>\n",
       "      <td>313.0</td>\n",
       "      <td>136.0</td>\n",
       "      <td>108.0</td>\n",
       "      <td>160.0</td>\n",
       "      <td>43.0</td>\n",
       "      <td>66.0</td>\n",
       "      <td>NaN</td>\n",
       "    </tr>\n",
       "  </tbody>\n",
       "</table>\n",
       "<p>200 rows × 9 columns</p>\n",
       "</div>"
      ],
      "text/plain": [
       "     A_a*B_a  A_a*B_b  A_a*B_c  A_b*B_a  A_b*B_b  A_b*B_c  A_c*B_a  A_c*B_b  \\\n",
       "0        NaN    321.0    146.0    126.0    107.0    123.0      NaN    135.0   \n",
       "1      150.0    167.0    179.0    125.0      NaN    197.0      NaN    115.0   \n",
       "2        NaN    315.0    156.0    122.0    104.0    107.0      NaN    112.0   \n",
       "3      165.0    166.0    190.0    179.0     98.0    114.0      NaN      NaN   \n",
       "4        NaN      NaN    308.0    259.0    123.0    131.0     43.0     69.0   \n",
       "..       ...      ...      ...      ...      ...      ...      ...      ...   \n",
       "195      NaN    304.0    160.0     95.0    111.0     98.0      NaN    116.0   \n",
       "196      NaN    312.0    146.0      NaN    202.0    109.0     63.0     49.0   \n",
       "197    172.0      NaN    294.0    234.0    108.0      NaN     61.0     55.0   \n",
       "198    163.0    238.0    170.0    214.0      NaN      NaN     58.0     66.0   \n",
       "199    152.0      NaN    313.0    136.0    108.0    160.0     43.0     66.0   \n",
       "\n",
       "     A_c*B_c  \n",
       "0       56.0  \n",
       "1       50.0  \n",
       "2       55.0  \n",
       "3       97.0  \n",
       "4       51.0  \n",
       "..       ...  \n",
       "195     53.0  \n",
       "196     71.0  \n",
       "197     64.0  \n",
       "198     56.0  \n",
       "199      NaN  \n",
       "\n",
       "[200 rows x 9 columns]"
      ]
     },
     "execution_count": 15,
     "metadata": {},
     "output_type": "execute_result"
    }
   ],
   "source": [
    "sim_sale=SimSale(level_size=[3,3],seed=100)\n",
    "sale_df = sim_sale.generate_sale(lam=1000,size=200,un_ava_frac=0.25,un_ava_mix=True)\n",
    "print(sim_sale.attr_f_list[0])\n",
    "print(sim_sale.attr_f_list[1])\n",
    "print(sim_sale.attr_pi_list[0])\n",
    "print(sim_sale.attr_pi_list[1]) \n",
    "mod = Demand(data=sale_df, \n",
    "             goods_attr={'A': list('abc'), 'B': list('abc')})\n",
    "sale_df"
   ]
  },
  {
   "cell_type": "markdown",
   "metadata": {},
   "source": [
    "## 2.参数估计"
   ]
  },
  {
   "cell_type": "code",
   "execution_count": 18,
   "metadata": {},
   "outputs": [
    {
     "name": "stdout",
     "output_type": "stream",
     "text": [
      "     fun: 354635.9303217127\n",
      " message: ['Maximum number of iteration reached']\n",
      "    nfev: 124119\n",
      "    nhev: 0\n",
      "     nit: 2000\n",
      "    njev: 2743\n",
      "  status: 0\n",
      " success: True\n",
      "       x: array([ 0.56500685,  0.22786774, -0.500161  ,  0.13067454,  0.05070011,\n",
      "        0.09559233,  1.53678207, -0.54138643, -0.1908612 ,  0.95406257,\n",
      "       -0.26601014,  1.53691039,  2.18291071,  0.4637661 ,  1.87493079,\n",
      "        0.13192593,  1.53691038,  0.13549522])\n",
      "([array([0.48579545, 0.34676543, 0.16743912]), array([0.34618056, 0.3195731 , 0.33424634])], [array([0.82299645, 0.36786512, 0.45242902, 0.72193146, 0.43388686,\n",
      "       0.82301514]), array([0.89870436, 0.61390722, 0.86702778, 0.53293373, 0.82301514,\n",
      "       0.53382208])])\n"
     ]
    },
    {
     "data": {
      "text/plain": [
       "0.7273260287421721"
      ]
     },
     "execution_count": 18,
     "metadata": {},
     "output_type": "execute_result"
    },
    {
     "data": {
      "image/png": "[encoded data removed]",
      "text/plain": [
       "<Figure size 576x288 with 2 Axes>"
      ]
     },
     "metadata": {
      "needs_background": "light"
     },
     "output_type": "display_data"
    }
   ],
   "source": [
    "# method='dual_annealing'\n",
    "mod.fit(method='dual_annealing',maxiter=2000)\n",
    "print(mod.theta_hat)\n",
    "print(mod.init_theta(mod.theta_hat.x,to_goods=False))\n",
    "\n",
    "mod.score(SimSale=sim_sale,plot=True)"
   ]
  },
  {
   "cell_type": "code",
   "execution_count": 7,
   "metadata": {},
   "outputs": [
    {
     "data": {
      "text/plain": [
       "[       A_a  A_b\n",
       " A_a    NaN  NaN\n",
       " A_b  200.0  NaN,\n",
       "        B_a  B_b\n",
       " B_a    NaN  NaN\n",
       " B_b  200.0  NaN]"
      ]
     },
     "execution_count": 7,
     "metadata": {},
     "output_type": "execute_result"
    }
   ],
   "source": [
    "mod.attr_trans"
   ]
  },
  {
   "cell_type": "code",
   "execution_count": 12,
   "metadata": {},
   "outputs": [
    {
     "data": {
      "text/plain": [
       "(array([0.58272747, 0.41727253, 0.45663565, 0.54336435, 0.07955721,\n",
       "        0.93312273, 0.09761845, 0.95108876]),\n",
       " array([0.58387084, 0.41612916, 0.45772765, 0.54227235, 0.04742587,\n",
       "        0.81022979, 0.04742951, 0.83153173]),\n",
       " [array([ 3.44225106e-01,  9.68348101e-04, -3.11423871e-02,  1.09379695e-01,\n",
       "         -2.48791552e+00,  2.03750874e+00, -2.23334381e+00,  2.11909533e+00]),\n",
       "  array([ 0.1536211 , -0.18649145, -0.07773093,  0.06640072, -2.51880184,\n",
       "          1.98519315, -2.25191323,  1.98520138]),\n",
       "  array([ 0.39501418,  0.04955504, -0.01808469,  0.13399318, -2.72066399,\n",
       "          2.0817376 , -2.33712889,  2.09476261]),\n",
       "  array([-0.55701629, -0.90069834, -0.681956  , -0.52144029, -2.99922924,\n",
       "          2.1987586 , -2.9986201 ,  2.30156267]),\n",
       "  array([ 0.5411034 ,  0.1989043 ,  0.09403164,  0.26328938, -2.95863196,\n",
       "          2.25147701, -2.5293123 ,  2.74192066]),\n",
       "  array([ 0.08182836, -0.26158161, -0.04623875,  0.12732119, -2.99981974,\n",
       "          2.23144047, -2.99964684,  2.9997987 ]),\n",
       "  array([ 0.48697208,  0.14413501,  0.34184507,  0.50393349, -3.        ,\n",
       "          1.85674846, -2.72213214,  2.72041913]),\n",
       "  array([ 0.2083952 , -0.14100335, -0.28656753, -0.1459198 , -2.9997127 ,\n",
       "          1.44452981, -2.99962766,  2.87010094]),\n",
       "  array([ 0.22759578, -0.12182533,  0.00456657,  0.14834908, -2.99996093,\n",
       "          1.4541494 , -2.99970611,  2.95538687]),\n",
       "  array([ 0.18166092, -0.1718715 ,  0.06232797,  0.20948147, -2.99952646,\n",
       "          1.77042846, -2.99931737,  2.8907308 ]),\n",
       "  array([ 0.19893149, -0.14369544,  0.07311219,  0.22197542, -2.99965031,\n",
       "          1.98226556, -2.99960841,  2.66486086]),\n",
       "  array([ 0.9726555 ,  0.62316589,  0.18888037,  0.35849558, -2.99990897,\n",
       "          2.55264678, -2.99988897,  2.67536246]),\n",
       "  array([-0.07901504, -0.42631995,  0.01711243,  0.18724295, -2.99995207,\n",
       "          2.52019335, -2.99979323,  2.52019336]),\n",
       "  array([ 0.18386525, -0.16038608,  0.00559381,  0.17831545, -2.99990899,\n",
       "          2.38117638, -2.99976588,  2.3811833 ]),\n",
       "  array([ 0.77975814,  0.43548249,  0.43768554,  0.6158347 , -3.        ,\n",
       "          2.85457684, -3.        ,  2.85461477]),\n",
       "  array([ 0.17961952, -0.17277045, -0.20481463, -0.03168327, -2.99984518,\n",
       "          2.47473605, -2.99953576,  2.47474045]),\n",
       "  array([ 0.13444747, -0.2127145 , -0.05358815,  0.12072005, -2.99919839,\n",
       "          2.43520726, -2.99916647,  2.43521508]),\n",
       "  array([ 0.31996563, -0.02115301, -0.66835544, -0.49545585, -2.99965111,\n",
       "          2.21530758, -2.99944777,  2.31726538]),\n",
       "  array([ 0.10605301, -0.23709908, -0.03066674,  0.14322744, -2.99942243,\n",
       "          2.01969622, -2.99899121,  2.01979669]),\n",
       "  array([ 0.23975817, -0.10277334, -0.037498  ,  0.12703681, -2.9998892 ,\n",
       "          1.80340207, -2.9997595 ,  1.95951834]),\n",
       "  array([ 0.29127432, -0.06030509,  0.23950664,  0.40449161, -2.99997099,\n",
       "          1.6801618 , -2.9998825 ,  1.92577877]),\n",
       "  array([-0.21018303, -0.55265732, -0.45380204, -0.28936957, -2.99913019,\n",
       "          1.62718099, -2.99885374,  1.74325683]),\n",
       "  array([ 0.41769784,  0.07134454, -0.57835974, -0.41224079, -2.99940105,\n",
       "          1.6250412 , -2.9978529 ,  1.71138964]),\n",
       "  array([ 0.1210575 , -0.22449318, -0.09852049,  0.07407735, -2.99944279,\n",
       "          1.87390982, -2.99876001,  1.87392447]),\n",
       "  array([-0.3456238 , -0.6824121 , -0.2363041 , -0.06388852, -2.99848338,\n",
       "          1.88960162, -2.99844709,  1.88960239]),\n",
       "  array([ 0.35351876,  0.02031441, -0.1176124 ,  0.04736326, -2.97221731,\n",
       "          1.67500316, -2.71572863,  1.67503713]),\n",
       "  array([-0.26093652, -0.59518074,  0.15159749,  0.32118244, -2.72936257,\n",
       "          1.7538355 , -2.19926054,  1.75388014]),\n",
       "  array([-0.0401516 , -0.3757376 , -0.0886278 ,  0.0727701 , -2.89479215,\n",
       "          1.62737396, -2.23909389,  1.62737396]),\n",
       "  array([ 0.18954557, -0.14026666,  0.01923793,  0.17585125, -2.34414435,\n",
       "          1.5151852 , -2.33534619,  1.5151852 ]),\n",
       "  array([ 0.93015687,  0.60205975,  0.70395851,  0.86663533, -2.67480372,\n",
       "          1.67830098, -2.40331035,  1.67830099])])"
      ]
     },
     "execution_count": 12,
     "metadata": {},
     "output_type": "execute_result"
    },
    {
     "data": {
      "image/png": "[encoded data removed]",
      "text/plain": [
       "<Figure size 432x288 with 1 Axes>"
      ]
     },
     "metadata": {
      "needs_background": "light"
     },
     "output_type": "display_data"
    }
   ],
   "source": [
    "mod.conf_int(SimSale=sim_sale,bootstrap_n=30)"
   ]
  },
  {
   "cell_type": "code",
   "execution_count": null,
   "metadata": {},
   "outputs": [],
   "source": [
    "mod.init_theta(np.zeros(18))"
   ]
  },
  {
   "cell_type": "code",
   "execution_count": 17,
   "metadata": {},
   "outputs": [
    {
     "data": {
      "text/plain": [
       "array([[1.        , 0.90055733, 0.7105921 , 0.84885489, 0.76444249,\n",
       "        0.60318958, 0.16900629, 0.15219985, 0.12009454],\n",
       "       [0.61652738, 1.        , 0.86682393, 0.52334228, 0.84885489,\n",
       "        0.73580773, 0.10419701, 0.16900629, 0.1464987 ],\n",
       "       [0.8488674 , 0.14998063, 1.        , 0.72056524, 0.12731179,\n",
       "        0.84885489, 0.14346393, 0.02534767, 0.16900629],\n",
       "       [0.72528868, 0.65316404, 0.51538441, 1.        , 0.90055733,\n",
       "        0.7105921 , 0.71654589, 0.64529066, 0.50917185],\n",
       "       [0.44716033, 0.72528868, 0.62869758, 0.61652738, 1.        ,\n",
       "        0.86682393, 0.44177016, 0.71654589, 0.62111913],\n",
       "       [0.61567392, 0.10877925, 0.72528868, 0.8488674 , 0.14998063,\n",
       "        1.        , 0.60825245, 0.107468  , 0.71654589],\n",
       "       [0.58467934, 0.52653727, 0.41546852, 0.8488674 , 0.76445376,\n",
       "        0.60319847, 1.        , 0.90055733, 0.7105921 ],\n",
       "       [0.36047083, 0.58467934, 0.50681404, 0.52335   , 0.8488674 ,\n",
       "        0.73581858, 0.61652738, 1.        , 0.86682393],\n",
       "       [0.49631523, 0.08769058, 0.58467934, 0.72057587, 0.12731367,\n",
       "        0.8488674 , 0.8488674 , 0.14998063, 1.        ]])"
      ]
     },
     "execution_count": 17,
     "metadata": {},
     "output_type": "execute_result"
    }
   ],
   "source": [
    "mod.theta_hat_goods_pi"
   ]
  },
  {
   "cell_type": "code",
   "execution_count": null,
   "metadata": {},
   "outputs": [],
   "source": [
    "c"
   ]
  }
 ],
 "metadata": {
  "interpreter": {
   "hash": "bd268f7866a163180400200105e2f04e308ca1b14f67412b0fa0af36d347cc58"
  },
  "kernelspec": {
   "display_name": "Python 3.9.7 ('analysis')",
   "language": "python",
   "name": "python3"
  },
  "language_info": {
   "codemirror_mode": {
    "name": "ipython",
    "version": 3
   },
   "file_extension": ".py",
   "mimetype": "text/x-python",
   "name": "python",
   "nbconvert_exporter": "python",
   "pygments_lexer": "ipython3",
   "version": "3.9.7"
  },
  "orig_nbformat": 4
 },
 "nbformat": 4,
 "nbformat_minor": 2
}
