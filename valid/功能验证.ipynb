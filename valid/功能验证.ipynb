{
 "cells": [
  {
   "cell_type": "code",
   "execution_count": 1,
   "metadata": {},
   "outputs": [],
   "source": [
    "import sys\n",
    "sys.path.append('..')\n",
    "\n",
    "import numpy as np \n",
    "import pandas as pd \n",
    "from scipy.optimize import root\n",
    "\n",
    "from mod.SimSale import SimSale\n",
    "from mod.Demand import Demand\n",
    "from numba import jit\n",
    "\n",
    "from numdifftools import Hessian,Jacobian"
   ]
  },
  {
   "cell_type": "markdown",
   "metadata": {},
   "source": [
    "## 1.模拟数据 及 待估计参数"
   ]
  },
  {
   "cell_type": "code",
   "execution_count": 15,
   "metadata": {},
   "outputs": [
    {
     "name": "stdout",
     "output_type": "stream",
     "text": [
      "a    0.479890\n",
      "b    0.104251\n",
      "c    0.415859\n",
      "Name: A, dtype: float64\n",
      "a    0.267030\n",
      "b    0.349371\n",
      "c    0.383599\n",
      "Name: B, dtype: float64\n",
      "          a         b         c\n",
      "a  1.000000  0.461524  0.122328\n",
      "b  0.620133  1.000000  0.382958\n",
      "c  0.861233  0.742800  1.000000\n",
      "          a         b         c\n",
      "a  1.000000  0.130495  0.671022\n",
      "b  0.125416  1.000000  0.203503\n",
      "c  0.767916  0.275686  1.000000\n"
     ]
    },
    {
     "data": {
      "text/html": [
       "<div>\n",
       "<style scoped>\n",
       "    .dataframe tbody tr th:only-of-type {\n",
       "        vertical-align: middle;\n",
       "    }\n",
       "\n",
       "    .dataframe tbody tr th {\n",
       "        vertical-align: top;\n",
       "    }\n",
       "\n",
       "    .dataframe thead th {\n",
       "        text-align: right;\n",
       "    }\n",
       "</style>\n",
       "<table border=\"1\" class=\"dataframe\">\n",
       "  <thead>\n",
       "    <tr style=\"text-align: right;\">\n",
       "      <th></th>\n",
       "      <th>A_a*B_a</th>\n",
       "      <th>A_a*B_b</th>\n",
       "      <th>A_a*B_c</th>\n",
       "      <th>A_b*B_a</th>\n",
       "      <th>A_b*B_b</th>\n",
       "      <th>A_b*B_c</th>\n",
       "      <th>A_c*B_a</th>\n",
       "      <th>A_c*B_b</th>\n",
       "      <th>A_c*B_c</th>\n",
       "    </tr>\n",
       "  </thead>\n",
       "  <tbody>\n",
       "    <tr>\n",
       "      <th>0</th>\n",
       "      <td>126.0</td>\n",
       "      <td>188.0</td>\n",
       "      <td>186.0</td>\n",
       "      <td>65.0</td>\n",
       "      <td>NaN</td>\n",
       "      <td>NaN</td>\n",
       "      <td>114.0</td>\n",
       "      <td>139.0</td>\n",
       "      <td>159.0</td>\n",
       "    </tr>\n",
       "    <tr>\n",
       "      <th>0</th>\n",
       "      <td>270.0</td>\n",
       "      <td>290.0</td>\n",
       "      <td>NaN</td>\n",
       "      <td>31.0</td>\n",
       "      <td>34.0</td>\n",
       "      <td>34.0</td>\n",
       "      <td>126.0</td>\n",
       "      <td>NaN</td>\n",
       "      <td>144.0</td>\n",
       "    </tr>\n",
       "    <tr>\n",
       "      <th>0</th>\n",
       "      <td>NaN</td>\n",
       "      <td>298.0</td>\n",
       "      <td>277.0</td>\n",
       "      <td>27.0</td>\n",
       "      <td>42.0</td>\n",
       "      <td>40.0</td>\n",
       "      <td>99.0</td>\n",
       "      <td>NaN</td>\n",
       "      <td>155.0</td>\n",
       "    </tr>\n",
       "    <tr>\n",
       "      <th>0</th>\n",
       "      <td>213.0</td>\n",
       "      <td>NaN</td>\n",
       "      <td>163.0</td>\n",
       "      <td>28.0</td>\n",
       "      <td>125.0</td>\n",
       "      <td>41.0</td>\n",
       "      <td>NaN</td>\n",
       "      <td>151.0</td>\n",
       "      <td>168.0</td>\n",
       "    </tr>\n",
       "    <tr>\n",
       "      <th>0</th>\n",
       "      <td>235.0</td>\n",
       "      <td>260.0</td>\n",
       "      <td>192.0</td>\n",
       "      <td>30.0</td>\n",
       "      <td>38.0</td>\n",
       "      <td>37.0</td>\n",
       "      <td>NaN</td>\n",
       "      <td>NaN</td>\n",
       "      <td>133.0</td>\n",
       "    </tr>\n",
       "    <tr>\n",
       "      <th>...</th>\n",
       "      <td>...</td>\n",
       "      <td>...</td>\n",
       "      <td>...</td>\n",
       "      <td>...</td>\n",
       "      <td>...</td>\n",
       "      <td>...</td>\n",
       "      <td>...</td>\n",
       "      <td>...</td>\n",
       "      <td>...</td>\n",
       "    </tr>\n",
       "    <tr>\n",
       "      <th>0</th>\n",
       "      <td>385.0</td>\n",
       "      <td>190.0</td>\n",
       "      <td>NaN</td>\n",
       "      <td>19.0</td>\n",
       "      <td>36.0</td>\n",
       "      <td>38.0</td>\n",
       "      <td>NaN</td>\n",
       "      <td>117.0</td>\n",
       "      <td>167.0</td>\n",
       "    </tr>\n",
       "    <tr>\n",
       "      <th>0</th>\n",
       "      <td>113.0</td>\n",
       "      <td>192.0</td>\n",
       "      <td>334.0</td>\n",
       "      <td>30.0</td>\n",
       "      <td>NaN</td>\n",
       "      <td>30.0</td>\n",
       "      <td>124.0</td>\n",
       "      <td>154.0</td>\n",
       "      <td>NaN</td>\n",
       "    </tr>\n",
       "    <tr>\n",
       "      <th>0</th>\n",
       "      <td>268.0</td>\n",
       "      <td>185.0</td>\n",
       "      <td>NaN</td>\n",
       "      <td>31.0</td>\n",
       "      <td>NaN</td>\n",
       "      <td>25.0</td>\n",
       "      <td>98.0</td>\n",
       "      <td>132.0</td>\n",
       "      <td>161.0</td>\n",
       "    </tr>\n",
       "    <tr>\n",
       "      <th>0</th>\n",
       "      <td>122.0</td>\n",
       "      <td>NaN</td>\n",
       "      <td>192.0</td>\n",
       "      <td>NaN</td>\n",
       "      <td>108.0</td>\n",
       "      <td>54.0</td>\n",
       "      <td>124.0</td>\n",
       "      <td>164.0</td>\n",
       "      <td>151.0</td>\n",
       "    </tr>\n",
       "    <tr>\n",
       "      <th>0</th>\n",
       "      <td>143.0</td>\n",
       "      <td>NaN</td>\n",
       "      <td>176.0</td>\n",
       "      <td>19.0</td>\n",
       "      <td>217.0</td>\n",
       "      <td>48.0</td>\n",
       "      <td>105.0</td>\n",
       "      <td>NaN</td>\n",
       "      <td>155.0</td>\n",
       "    </tr>\n",
       "  </tbody>\n",
       "</table>\n",
       "<p>200 rows × 9 columns</p>\n",
       "</div>"
      ],
      "text/plain": [
       "    A_a*B_a  A_a*B_b  A_a*B_c  A_b*B_a  A_b*B_b  A_b*B_c  A_c*B_a  A_c*B_b  \\\n",
       "0     126.0    188.0    186.0     65.0      NaN      NaN    114.0    139.0   \n",
       "0     270.0    290.0      NaN     31.0     34.0     34.0    126.0      NaN   \n",
       "0       NaN    298.0    277.0     27.0     42.0     40.0     99.0      NaN   \n",
       "0     213.0      NaN    163.0     28.0    125.0     41.0      NaN    151.0   \n",
       "0     235.0    260.0    192.0     30.0     38.0     37.0      NaN      NaN   \n",
       "..      ...      ...      ...      ...      ...      ...      ...      ...   \n",
       "0     385.0    190.0      NaN     19.0     36.0     38.0      NaN    117.0   \n",
       "0     113.0    192.0    334.0     30.0      NaN     30.0    124.0    154.0   \n",
       "0     268.0    185.0      NaN     31.0      NaN     25.0     98.0    132.0   \n",
       "0     122.0      NaN    192.0      NaN    108.0     54.0    124.0    164.0   \n",
       "0     143.0      NaN    176.0     19.0    217.0     48.0    105.0      NaN   \n",
       "\n",
       "    A_c*B_c  \n",
       "0     159.0  \n",
       "0     144.0  \n",
       "0     155.0  \n",
       "0     168.0  \n",
       "0     133.0  \n",
       "..      ...  \n",
       "0     167.0  \n",
       "0       NaN  \n",
       "0     161.0  \n",
       "0     151.0  \n",
       "0     155.0  \n",
       "\n",
       "[200 rows x 9 columns]"
      ]
     },
     "execution_count": 15,
     "metadata": {},
     "output_type": "execute_result"
    }
   ],
   "source": [
    "sim_sale=SimSale(level_size=[3,3],seed=10)\n",
    "sale_df = sim_sale.generate_sale(lam=1000,size=200,un_ava_frac=0.25,un_ava_mix=True)\n",
    "# sale_df\n",
    "print(sim_sale.attr_f_list[0])\n",
    "print(sim_sale.attr_f_list[1])\n",
    "print(sim_sale.attr_pi_list[0])\n",
    "print(sim_sale.attr_pi_list[1]) \n",
    "mod = Demand(data=sale_df, \n",
    "             goods_attr={'A': list('abc'), 'B': list('abc')})\n",
    "sale_df"
   ]
  },
  {
   "cell_type": "markdown",
   "metadata": {},
   "source": [
    "## 2.参数估计"
   ]
  },
  {
   "cell_type": "code",
   "execution_count": 16,
   "metadata": {},
   "outputs": [
    {
     "name": "stdout",
     "output_type": "stream",
     "text": [
      "     fun: 330166.67527942924\n",
      " message: ['Maximum number of iteration reached']\n",
      "    nfev: 45083\n",
      "    nhev: 0\n",
      "     nit: 1000\n",
      "    njev: 478\n",
      "  status: 0\n",
      " success: True\n",
      "       x: array([ 0.59995806, -0.92493483,  0.45517375, -0.17616826,  0.08625506,\n",
      "        0.18764822, -0.11377666, -2.66814114, -1.35676104,  0.5260712 ,\n",
      "        1.8105367 ,  1.0488178 , -2.91024525,  0.909777  , -1.54564514,\n",
      "       -1.76457174,  1.1800565 , -2.14630513])\n",
      "([array([0.48011063, 0.10449338, 0.41539599]), array([0.26745928, 0.3477176 , 0.38482312])], [array([0.47158648, 0.06487966, 0.20476722, 0.62856632, 0.85942673,\n",
      "       0.74054782]), array([0.05164942, 0.71295453, 0.17571614, 0.14621869, 0.76495796,\n",
      "       0.104677  ])])\n"
     ]
    },
    {
     "data": {
      "text/plain": [
       "0.9652280428451415"
      ]
     },
     "execution_count": 16,
     "metadata": {},
     "output_type": "execute_result"
    },
    {
     "data": {
      "image/png": "[encoded data removed]",
      "text/plain": [
       "<Figure size 576x288 with 2 Axes>"
      ]
     },
     "metadata": {
      "needs_background": "light"
     },
     "output_type": "display_data"
    }
   ],
   "source": [
    "# method='dual_annealing'\n",
    "mod.fit(method='dual_annealing')\n",
    "print(mod.theta_hat)\n",
    "print(mod.init_theta(mod.theta_hat.x,to_goods=False))\n",
    "\n",
    "mod.score(SimSale=sim_sale,plot=True)"
   ]
  },
  {
   "cell_type": "code",
   "execution_count": 17,
   "metadata": {},
   "outputs": [
    {
     "data": {
      "text/plain": [
       "[       A_a    A_b    A_c\n",
       " A_a    NaN  113.0  113.0\n",
       " A_b  120.0    NaN  120.0\n",
       " A_c  117.0  117.0    NaN,\n",
       "        B_a    B_b    B_c\n",
       " B_a    NaN  112.0  112.0\n",
       " B_b  120.0    NaN  120.0\n",
       " B_c  128.0  128.0    NaN]"
      ]
     },
     "execution_count": 17,
     "metadata": {},
     "output_type": "execute_result"
    }
   ],
   "source": [
    "mod.attr_trans"
   ]
  },
  {
   "cell_type": "code",
   "execution_count": 18,
   "metadata": {},
   "outputs": [
    {
     "data": {
      "text/plain": [
       "(array([0.47888414, 0.10755021, 0.41356565, 0.25997589, 0.35672075,\n",
       "        0.38330336, 0.59876756, 0.17103894, 0.19463948, 0.75628198,\n",
       "        0.95257317, 0.94488823, 0.72198998, 0.74108088, 0.19463883,\n",
       "        0.16032313, 0.78861619, 0.71781641]),\n",
       " array([0.47631912, 0.10737173, 0.41630916, 0.26110618, 0.35504121,\n",
       "        0.38385261, 0.44696074, 0.05049545, 0.0961777 , 0.34935789,\n",
       "        0.83246195, 0.05555696, 0.05811213, 0.06728485, 0.10085354,\n",
       "        0.04894338, 0.71064261, 0.06017735]))"
      ]
     },
     "execution_count": 18,
     "metadata": {},
     "output_type": "execute_result"
    },
    {
     "data": {
      "image/png": "[encoded data removed]",
      "text/plain": [
       "<Figure size 432x288 with 1 Axes>"
      ]
     },
     "metadata": {
      "needs_background": "light"
     },
     "output_type": "display_data"
    }
   ],
   "source": [
    "mod.conf_int(SimSale=sim_sale,bootstrap_n=50)"
   ]
  },
  {
   "cell_type": "code",
   "execution_count": null,
   "metadata": {},
   "outputs": [],
   "source": []
  }
 ],
 "metadata": {
  "interpreter": {
   "hash": "bd268f7866a163180400200105e2f04e308ca1b14f67412b0fa0af36d347cc58"
  },
  "kernelspec": {
   "display_name": "Python 3.9.7 ('analysis')",
   "language": "python",
   "name": "python3"
  },
  "language_info": {
   "codemirror_mode": {
    "name": "ipython",
    "version": 3
   },
   "file_extension": ".py",
   "mimetype": "text/x-python",
   "name": "python",
   "nbconvert_exporter": "python",
   "pygments_lexer": "ipython3",
   "version": "3.9.7"
  },
  "orig_nbformat": 4
 },
 "nbformat": 4,
 "nbformat_minor": 2
}
