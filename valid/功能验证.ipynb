{
 "cells": [
  {
   "cell_type": "code",
   "execution_count": 1,
   "metadata": {},
   "outputs": [],
   "source": [
    "import sys\n",
    "sys.path.append('..')\n",
    "\n",
    "import numpy as np \n",
    "import pandas as pd \n",
    "from scipy.optimize import root\n",
    "\n",
    "from mod.SimSale import SimSale\n",
    "from mod.Demand import Demand\n",
    "from numba import jit\n",
    "\n",
    "# from numdifftools import Hessian,Jacobian"
   ]
  },
  {
   "cell_type": "markdown",
   "metadata": {},
   "source": [
    "## 1.模拟数据 及 待估计参数"
   ]
  },
  {
   "cell_type": "code",
   "execution_count": 2,
   "metadata": {},
   "outputs": [
    {
     "name": "stdout",
     "output_type": "stream",
     "text": [
      "a    0.479890\n",
      "b    0.104251\n",
      "c    0.415859\n",
      "Name: A, dtype: float64\n",
      "a    0.267030\n",
      "b    0.349371\n",
      "c    0.383599\n",
      "Name: B, dtype: float64\n",
      "          a         b         c\n",
      "a  1.000000  0.461524  0.122328\n",
      "b  0.620133  1.000000  0.382958\n",
      "c  0.861233  0.742800  1.000000\n",
      "          a         b         c\n",
      "a  1.000000  0.130495  0.671022\n",
      "b  0.125416  1.000000  0.203503\n",
      "c  0.767916  0.275686  1.000000\n"
     ]
    },
    {
     "data": {
      "text/html": [
       "<div>\n",
       "<style scoped>\n",
       "    .dataframe tbody tr th:only-of-type {\n",
       "        vertical-align: middle;\n",
       "    }\n",
       "\n",
       "    .dataframe tbody tr th {\n",
       "        vertical-align: top;\n",
       "    }\n",
       "\n",
       "    .dataframe thead th {\n",
       "        text-align: right;\n",
       "    }\n",
       "</style>\n",
       "<table border=\"1\" class=\"dataframe\">\n",
       "  <thead>\n",
       "    <tr style=\"text-align: right;\">\n",
       "      <th></th>\n",
       "      <th>A_a*B_a</th>\n",
       "      <th>A_a*B_b</th>\n",
       "      <th>A_a*B_c</th>\n",
       "      <th>A_b*B_a</th>\n",
       "      <th>A_b*B_b</th>\n",
       "      <th>A_b*B_c</th>\n",
       "      <th>A_c*B_a</th>\n",
       "      <th>A_c*B_b</th>\n",
       "      <th>A_c*B_c</th>\n",
       "    </tr>\n",
       "  </thead>\n",
       "  <tbody>\n",
       "    <tr>\n",
       "      <th>0</th>\n",
       "      <td>NaN</td>\n",
       "      <td>165.0</td>\n",
       "      <td>270.0</td>\n",
       "      <td>NaN</td>\n",
       "      <td>38.0</td>\n",
       "      <td>63.0</td>\n",
       "      <td>114.0</td>\n",
       "      <td>139.0</td>\n",
       "      <td>159.0</td>\n",
       "    </tr>\n",
       "    <tr>\n",
       "      <th>1</th>\n",
       "      <td>NaN</td>\n",
       "      <td>165.0</td>\n",
       "      <td>272.0</td>\n",
       "      <td>NaN</td>\n",
       "      <td>34.0</td>\n",
       "      <td>54.0</td>\n",
       "      <td>126.0</td>\n",
       "      <td>146.0</td>\n",
       "      <td>144.0</td>\n",
       "    </tr>\n",
       "    <tr>\n",
       "      <th>2</th>\n",
       "      <td>NaN</td>\n",
       "      <td>194.0</td>\n",
       "      <td>277.0</td>\n",
       "      <td>27.0</td>\n",
       "      <td>NaN</td>\n",
       "      <td>40.0</td>\n",
       "      <td>99.0</td>\n",
       "      <td>151.0</td>\n",
       "      <td>155.0</td>\n",
       "    </tr>\n",
       "    <tr>\n",
       "      <th>3</th>\n",
       "      <td>242.0</td>\n",
       "      <td>201.0</td>\n",
       "      <td>NaN</td>\n",
       "      <td>28.0</td>\n",
       "      <td>NaN</td>\n",
       "      <td>41.0</td>\n",
       "      <td>112.0</td>\n",
       "      <td>151.0</td>\n",
       "      <td>168.0</td>\n",
       "    </tr>\n",
       "    <tr>\n",
       "      <th>4</th>\n",
       "      <td>NaN</td>\n",
       "      <td>151.0</td>\n",
       "      <td>278.0</td>\n",
       "      <td>NaN</td>\n",
       "      <td>38.0</td>\n",
       "      <td>57.0</td>\n",
       "      <td>124.0</td>\n",
       "      <td>127.0</td>\n",
       "      <td>133.0</td>\n",
       "    </tr>\n",
       "    <tr>\n",
       "      <th>...</th>\n",
       "      <td>...</td>\n",
       "      <td>...</td>\n",
       "      <td>...</td>\n",
       "      <td>...</td>\n",
       "      <td>...</td>\n",
       "      <td>...</td>\n",
       "      <td>...</td>\n",
       "      <td>...</td>\n",
       "      <td>...</td>\n",
       "    </tr>\n",
       "    <tr>\n",
       "      <th>195</th>\n",
       "      <td>227.0</td>\n",
       "      <td>290.0</td>\n",
       "      <td>206.0</td>\n",
       "      <td>19.0</td>\n",
       "      <td>36.0</td>\n",
       "      <td>38.0</td>\n",
       "      <td>NaN</td>\n",
       "      <td>NaN</td>\n",
       "      <td>167.0</td>\n",
       "    </tr>\n",
       "    <tr>\n",
       "      <th>196</th>\n",
       "      <td>113.0</td>\n",
       "      <td>NaN</td>\n",
       "      <td>198.0</td>\n",
       "      <td>30.0</td>\n",
       "      <td>228.0</td>\n",
       "      <td>30.0</td>\n",
       "      <td>124.0</td>\n",
       "      <td>NaN</td>\n",
       "      <td>159.0</td>\n",
       "    </tr>\n",
       "    <tr>\n",
       "      <th>197</th>\n",
       "      <td>130.0</td>\n",
       "      <td>168.0</td>\n",
       "      <td>319.0</td>\n",
       "      <td>NaN</td>\n",
       "      <td>28.0</td>\n",
       "      <td>45.0</td>\n",
       "      <td>98.0</td>\n",
       "      <td>132.0</td>\n",
       "      <td>NaN</td>\n",
       "    </tr>\n",
       "    <tr>\n",
       "      <th>198</th>\n",
       "      <td>122.0</td>\n",
       "      <td>NaN</td>\n",
       "      <td>222.0</td>\n",
       "      <td>25.0</td>\n",
       "      <td>NaN</td>\n",
       "      <td>38.0</td>\n",
       "      <td>124.0</td>\n",
       "      <td>178.0</td>\n",
       "      <td>151.0</td>\n",
       "    </tr>\n",
       "    <tr>\n",
       "      <th>199</th>\n",
       "      <td>NaN</td>\n",
       "      <td>174.0</td>\n",
       "      <td>271.0</td>\n",
       "      <td>96.0</td>\n",
       "      <td>37.0</td>\n",
       "      <td>48.0</td>\n",
       "      <td>NaN</td>\n",
       "      <td>135.0</td>\n",
       "      <td>155.0</td>\n",
       "    </tr>\n",
       "  </tbody>\n",
       "</table>\n",
       "<p>200 rows × 9 columns</p>\n",
       "</div>"
      ],
      "text/plain": [
       "     A_a*B_a  A_a*B_b  A_a*B_c  A_b*B_a  A_b*B_b  A_b*B_c  A_c*B_a  A_c*B_b  \\\n",
       "0        NaN    165.0    270.0      NaN     38.0     63.0    114.0    139.0   \n",
       "1        NaN    165.0    272.0      NaN     34.0     54.0    126.0    146.0   \n",
       "2        NaN    194.0    277.0     27.0      NaN     40.0     99.0    151.0   \n",
       "3      242.0    201.0      NaN     28.0      NaN     41.0    112.0    151.0   \n",
       "4        NaN    151.0    278.0      NaN     38.0     57.0    124.0    127.0   \n",
       "..       ...      ...      ...      ...      ...      ...      ...      ...   \n",
       "195    227.0    290.0    206.0     19.0     36.0     38.0      NaN      NaN   \n",
       "196    113.0      NaN    198.0     30.0    228.0     30.0    124.0      NaN   \n",
       "197    130.0    168.0    319.0      NaN     28.0     45.0     98.0    132.0   \n",
       "198    122.0      NaN    222.0     25.0      NaN     38.0    124.0    178.0   \n",
       "199      NaN    174.0    271.0     96.0     37.0     48.0      NaN    135.0   \n",
       "\n",
       "     A_c*B_c  \n",
       "0      159.0  \n",
       "1      144.0  \n",
       "2      155.0  \n",
       "3      168.0  \n",
       "4      133.0  \n",
       "..       ...  \n",
       "195    167.0  \n",
       "196    159.0  \n",
       "197      NaN  \n",
       "198    151.0  \n",
       "199    155.0  \n",
       "\n",
       "[200 rows x 9 columns]"
      ]
     },
     "execution_count": 2,
     "metadata": {},
     "output_type": "execute_result"
    }
   ],
   "source": [
    "sim_sale=SimSale(level_size=[3,3],seed=10)\n",
    "sale_df = sim_sale.generate_sale(lam=1000,size=200,un_ava_frac=0.25,un_ava_mix=True)\n",
    "# sale_df\n",
    "print(sim_sale.attr_f_list[0])\n",
    "print(sim_sale.attr_f_list[1])\n",
    "print(sim_sale.attr_pi_list[0])\n",
    "print(sim_sale.attr_pi_list[1]) \n",
    "mod = Demand(data=sale_df, \n",
    "             goods_attr={'A': list('abc'), 'B': list('abc')})\n",
    "sale_df.reset_index(drop=True)"
   ]
  },
  {
   "cell_type": "markdown",
   "metadata": {},
   "source": [
    "## 2.参数估计"
   ]
  },
  {
   "cell_type": "code",
   "execution_count": 3,
   "metadata": {},
   "outputs": [
    {
     "name": "stdout",
     "output_type": "stream",
     "text": [
      "     fun: 331047.1417850984\n",
      " message: ['Maximum number of iteration reached']\n",
      "    nfev: 46185\n",
      "    nhev: 0\n",
      "     nit: 1000\n",
      "    njev: 536\n",
      "  status: 0\n",
      " success: True\n",
      "       x: array([ 0.62931827, -0.8970027 ,  0.47399691, -0.50738106, -0.24515795,\n",
      "       -0.14396152, -0.1883743 , -2.28162248,  0.26477965,  0.26507642,\n",
      "        1.59523528,  1.003981  , -1.70081467,  0.61501236, -1.13192907,\n",
      "       -2.28424462,  1.13985904, -1.02007437])\n",
      "([array([0.48228244, 0.10481626, 0.41290129]), array([0.26751876, 0.3477253 , 0.38475594])], [array([0.45304519, 0.09265646, 0.56581087, 0.56588378, 0.8313514 ,\n",
      "       0.73184057]), array([0.15435889, 0.64908334, 0.24380527, 0.09243625, 0.75765376,\n",
      "       0.26501291])])\n"
     ]
    },
    {
     "data": {
      "text/plain": [
       "0.978379094001808"
      ]
     },
     "execution_count": 3,
     "metadata": {},
     "output_type": "execute_result"
    },
    {
     "data": {
      "image/png": "[encoded data removed]",
      "text/plain": [
       "<Figure size 576x288 with 2 Axes>"
      ]
     },
     "metadata": {
      "needs_background": "light"
     },
     "output_type": "display_data"
    }
   ],
   "source": [
    "# method='dual_annealing'\n",
    "mod.fit(method='dual_annealing',maxiter=1000)\n",
    "print(mod.theta_hat)\n",
    "print(mod.init_theta(mod.theta_hat.x,to_goods=False))\n",
    "\n",
    "mod.score(SimSale=sim_sale,plot=True)"
   ]
  },
  {
   "cell_type": "code",
   "execution_count": 4,
   "metadata": {},
   "outputs": [
    {
     "data": {
      "text/plain": [
       "[       A_a    A_b    A_c\n",
       " A_a    NaN  112.0  112.0\n",
       " A_b  126.0    NaN  126.0\n",
       " A_c  119.0  119.0    NaN,\n",
       "        B_a    B_b    B_c\n",
       " B_a    NaN  115.0  115.0\n",
       " B_b  110.0    NaN  110.0\n",
       " B_c  117.0  117.0    NaN]"
      ]
     },
     "execution_count": 4,
     "metadata": {},
     "output_type": "execute_result"
    }
   ],
   "source": [
    "mod.attr_trans"
   ]
  },
  {
   "cell_type": "code",
   "execution_count": 28,
   "metadata": {},
   "outputs": [
    {
     "data": {
      "image/png": "[encoded data removed]",
      "text/plain": [
       "<Figure size 432x288 with 1 Axes>"
      ]
     },
     "metadata": {
      "needs_background": "light"
     },
     "output_type": "display_data"
    }
   ],
   "source": [
    "a,b,c=mod.conf_int(SimSale=sim_sale,bootstrap_n=20)"
   ]
  },
  {
   "cell_type": "code",
   "execution_count": null,
   "metadata": {},
   "outputs": [],
   "source": [
    "level = 0.95\n",
    "theta_matrix = np.column_stack(c)\n",
    "\n",
    "int_up       = np.quantile(theta_matrix,q=level+(1-level)/2,axis=1)\n",
    "int_up       = mod.init_theta(int_up,to_goods=False)\n",
    "int_up       = np.append(np.concatenate(int_up[0]),np.concatenate(int_up[1]))\n",
    "\n",
    "int_dw       = np.quantile(theta_matrix,q=(1-level)/2,axis=1)\n",
    "int_dw       = mod.init_theta(int_dw,to_goods=False)\n",
    "int_dw       = np.append(np.concatenate(int_dw[0]),np.concatenate(int_dw[1]))\n",
    "\n",
    "int_md       = np.quantile(theta_matrix,q=0.5,axis=1)\n",
    "int_md       = mod.init_theta(int_md,to_goods=False)\n",
    "int_md       = np.append(np.concatenate(int_md[0]),np.concatenate(int_md[1]))"
   ]
  },
  {
   "cell_type": "code",
   "execution_count": null,
   "metadata": {},
   "outputs": [],
   "source": [
    "int_dw"
   ]
  },
  {
   "cell_type": "code",
   "execution_count": null,
   "metadata": {},
   "outputs": [],
   "source": [
    "c"
   ]
  }
 ],
 "metadata": {
  "interpreter": {
   "hash": "bd268f7866a163180400200105e2f04e308ca1b14f67412b0fa0af36d347cc58"
  },
  "kernelspec": {
   "display_name": "Python 3.9.7 ('analysis')",
   "language": "python",
   "name": "python3"
  },
  "language_info": {
   "codemirror_mode": {
    "name": "ipython",
    "version": 3
   },
   "file_extension": ".py",
   "mimetype": "text/x-python",
   "name": "python",
   "nbconvert_exporter": "python",
   "pygments_lexer": "ipython3",
   "version": "3.9.7"
  },
  "orig_nbformat": 4
 },
 "nbformat": 4,
 "nbformat_minor": 2
}
